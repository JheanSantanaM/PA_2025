{
  "cells": [
    {
      "cell_type": "markdown",
      "metadata": {
        "id": "view-in-github",
        "colab_type": "text"
      },
      "source": [
        "<a href=\"https://colab.research.google.com/github/JheanSantanaM/PA_2025/blob/main/C%C3%B3pia_de_exercicios_loops_strings_dicionarios_05_09.ipynb\" target=\"_parent\"><img src=\"https://colab.research.google.com/assets/colab-badge.svg\" alt=\"Open In Colab\"/></a>"
      ]
    },
    {
      "cell_type": "markdown",
      "id": "50e41763",
      "metadata": {
        "id": "50e41763"
      },
      "source": [
        "# Lista de Exercícios - Python (Loops, Strings e Dicionários)\n",
        "Este notebook contém 15 exercícios para praticar `for`, `while`, manipulação de **strings** e **dicionários`."
      ]
    },
    {
      "cell_type": "markdown",
      "id": "6c5e8da0",
      "metadata": {
        "id": "6c5e8da0"
      },
      "source": [
        "### 1. **Contagem de vogais**: Peça uma palavra e conte quantas vezes cada vogal aparece (usar `for` ou `while`)."
      ]
    },
    {
      "cell_type": "code",
      "execution_count": 2,
      "id": "15f84469",
      "metadata": {
        "id": "15f84469",
        "colab": {
          "base_uri": "https://localhost:8080/"
        },
        "outputId": "d7ae26c9-b902-4280-e5df-8b69d96108b0"
      },
      "outputs": [
        {
          "output_type": "stream",
          "name": "stdout",
          "text": [
            "Digite uma palavra: flavio\n",
            "Temos esta vogal: a\n",
            "Temos esta vogal: i\n",
            "Temos esta vogal: o\n"
          ]
        }
      ],
      "source": [
        "pala = str(input('Digite uma palavra: '))\n",
        "vogais = 'aeiou'\n",
        "for letra in pala:\n",
        "  if letra in vogais:\n",
        "    print(\"Temos esta vogal:\", letra)\n",
        "\n"
      ]
    },
    {
      "cell_type": "markdown",
      "id": "2446d942",
      "metadata": {
        "id": "2446d942"
      },
      "source": [
        "### 2. **Inversão de string**: Solicite uma frase e mostre-a invertida **sem usar slicing** (`[::-1]` não vale). Use `while`."
      ]
    },
    {
      "cell_type": "code",
      "execution_count": null,
      "id": "4bd947d4",
      "metadata": {
        "id": "4bd947d4"
      },
      "outputs": [],
      "source": [
        "frase = input(\"Digite uma frase: \")\n",
        "invertida = \"\"\n",
        "indice = len(frase) - 1\n",
        "while indice >= 0:\n",
        "    invertida += frase[indice]\n",
        "    indice -= 1\n",
        "print(\"Frase invertida:\", invertida)"
      ]
    },
    {
      "cell_type": "markdown",
      "id": "096a5b5d",
      "metadata": {
        "id": "096a5b5d"
      },
      "source": [
        "### 3. **Frequência de caracteres**: Dada uma string, crie um dicionário que mostre quantas vezes cada caractere aparece."
      ]
    },
    {
      "cell_type": "code",
      "execution_count": 4,
      "id": "bd28dd49",
      "metadata": {
        "id": "bd28dd49",
        "colab": {
          "base_uri": "https://localhost:8080/"
        },
        "outputId": "1114790c-9967-4d97-ef3b-db5158aa4e9e"
      },
      "outputs": [
        {
          "output_type": "stream",
          "name": "stdout",
          "text": [
            "Digite uma frase: pietro carvalho senta na tora\n",
            "Frequência de caracteres: {'p': 1, 'i': 1, 'e': 2, 't': 3, 'r': 3, 'o': 3, ' ': 4, 'c': 1, 'a': 5, 'v': 1, 'l': 1, 'h': 1, 's': 1, 'n': 2}\n"
          ]
        }
      ],
      "source": [
        "frase = input(\"Digite uma frase: \")\n",
        "frequencia = {}\n",
        "for caractere in frase:\n",
        "    if caractere in frequencia:\n",
        "        frequencia[caractere] += 1\n",
        "    else:\n",
        "        frequencia[caractere] = 1\n",
        "print(\"Frequência de caracteres:\", frequencia)"
      ]
    },
    {
      "cell_type": "markdown",
      "id": "d046cc57",
      "metadata": {
        "id": "d046cc57"
      },
      "source": [
        "### 4. **Palavras únicas**: Peça uma frase e mostre as palavras que aparecem **apenas uma vez**."
      ]
    },
    {
      "cell_type": "code",
      "execution_count": null,
      "id": "092bef79",
      "metadata": {
        "id": "092bef79"
      },
      "outputs": [],
      "source": [
        "frase = str(input(\"Digite uma frase: \"))\n",
        "\n",
        "palavras = frase.split()\n",
        "\n",
        "unica = {}\n",
        "\n",
        "for palavra in palavras:\n",
        "    if palavra not in unica:\n",
        "        unica[palavra] = 1\n",
        "    else:\n",
        "        unica[palavra] += 1\n",
        "palavras_unicas = [palavra for palavra, count in unica.items() if count == 1]\n",
        "print(\"Palavras únicas:\", palavras_unicas)\n"
      ]
    },
    {
      "cell_type": "markdown",
      "id": "3ea99323",
      "metadata": {
        "id": "3ea99323"
      },
      "source": [
        "### 5. **Substituição manual**: Peça uma string e duas letras: substitua **manualmente** todas as ocorrências da primeira letra pela segunda, usando laço."
      ]
    },
    {
      "cell_type": "code",
      "execution_count": null,
      "id": "4d1406be",
      "metadata": {
        "id": "4d1406be"
      },
      "outputs": [],
      "source": [
        "string = input(\"Digite uma palavra: \")\n",
        "letra_antiga = input(\"Digite a letra a ser substituída: \")\n",
        "letra_nova = input(\"Digite a letra que substituirá a antiga: \")\n",
        "nova_string = \"\"\n",
        "for caractere in string:\n",
        "    if caractere == letra_antiga:\n",
        "        nova_string += letra_nova\n",
        "    else:\n",
        "        nova_string += caractere\n",
        "print(\"Nova string:\", nova_string)"
      ]
    },
    {
      "cell_type": "markdown",
      "id": "870e9e64",
      "metadata": {
        "id": "870e9e64"
      },
      "source": [
        "### 6. **Palíndromo**: Verifique se uma palavra é um **palíndromo** sem usar funções prontas de reversão."
      ]
    },
    {
      "cell_type": "code",
      "execution_count": 17,
      "id": "87824151",
      "metadata": {
        "id": "87824151",
        "colab": {
          "base_uri": "https://localhost:8080/"
        },
        "outputId": "453f1f2b-d50a-4a63-9e66-02f11675bcb6"
      },
      "outputs": [
        {
          "output_type": "stream",
          "name": "stdout",
          "text": [
            "Digite uma palavra: arara\n",
            "A palavra é um palíndromo.\n"
          ]
        }
      ],
      "source": [
        "palavra = input(\"Digite uma palavra: \")\n",
        "invertida = \"\"\n",
        "indice = len(palavra) - 1\n",
        "while indice >= 0:\n",
        "    invertida += palavra[indice]\n",
        "    indice -= 1\n",
        "if palavra == invertida:\n",
        "    print(\"A palavra é um palíndromo.\")\n",
        "else:\n",
        "    print(\"A palavra não é um palíndromo.\")"
      ]
    },
    {
      "cell_type": "markdown",
      "id": "ce1b0e1f",
      "metadata": {
        "id": "ce1b0e1f"
      },
      "source": [
        "### 7. **Enigma da senha**: Peça uma string e crie uma nova palavra pegando apenas as letras nas **posições ímpares**."
      ]
    },
    {
      "cell_type": "code",
      "execution_count": 19,
      "id": "9fc744d2",
      "metadata": {
        "id": "9fc744d2",
        "colab": {
          "base_uri": "https://localhost:8080/"
        },
        "outputId": "2e19727e-da12-4b43-d364-89df3eddec1c"
      },
      "outputs": [
        {
          "output_type": "stream",
          "name": "stdout",
          "text": [
            "Digite uma string: hoje\n",
            "Nova palavra: oe\n"
          ]
        }
      ],
      "source": [
        "string = input(\"Digite uma palavra: \")\n",
        "nova_palavra = \"\"\n",
        "for i in range(1, len(string), 2):\n",
        "    nova_palavra += string[i]\n",
        "print(\"Nova palavra:\", nova_palavra)"
      ]
    },
    {
      "cell_type": "markdown",
      "id": "42fe1350",
      "metadata": {
        "id": "42fe1350"
      },
      "source": [
        "### 8. **Expansão de abreviações**: Dado um dicionário de abreviações, substitua manualmente cada ocorrência em uma frase.\n",
        "\n",
        "(Ex: (vc: você, blz: beleza ..."
      ]
    },
    {
      "cell_type": "code",
      "execution_count": 20,
      "id": "e63acd2a",
      "metadata": {
        "id": "e63acd2a",
        "colab": {
          "base_uri": "https://localhost:8080/"
        },
        "outputId": "a8c295b1-b530-4c49-e8ae-3d74f4aae282"
      },
      "outputs": [
        {
          "output_type": "stream",
          "name": "stdout",
          "text": [
            "Digite uma frase: oi vc pq tb qlq\n",
            "Frase expandida: oi você porque também qualquer\n"
          ]
        }
      ],
      "source": [
        "abreviacoes = {\n",
        "    \"vc\": \"você\",\n",
        "    \"tb\": \"também\",\n",
        "    \"pq\": \"porque\",\n",
        "    \"qlq\": \"qualquer\",\n",
        "    \"blz\": \"beleza\"\n",
        "}\n",
        "frase = input(\"Digite uma frase: \")\n",
        "palavras = frase.split()\n",
        "nova_frase = \"\"\n",
        "for palavra in palavras:\n",
        "    if palavra.lower() in abreviacoes:\n",
        "        nova_frase += abreviacoes[palavra.lower()] + \" \"\n",
        "    else:\n",
        "        nova_frase += palavra + \" \"\n",
        "print(\"Frase expandida:\", nova_frase.strip())\n"
      ]
    },
    {
      "cell_type": "markdown",
      "id": "3cf96a02",
      "metadata": {
        "id": "3cf96a02"
      },
      "source": [
        "### 9. **Criptografia simples**: Implemente uma cifra de substituição onde cada letra é trocada pela **próxima no alfabeto** (z → a)."
      ]
    },
    {
      "cell_type": "code",
      "execution_count": 24,
      "id": "c8a0d724",
      "metadata": {
        "id": "c8a0d724",
        "colab": {
          "base_uri": "https://localhost:8080/"
        },
        "outputId": "0833e733-4a46-4728-81c2-344b4fc82d93"
      },
      "outputs": [
        {
          "output_type": "stream",
          "name": "stdout",
          "text": [
            "Digite o texto a ser criptografado: flavio gustavo\n",
            "Texto criptografado: gmbwjp hvtubwp\n"
          ]
        }
      ],
      "source": [
        "texto = input(\"Digite o texto a ser criptografado: \")\n",
        "alfabeto_minusculo = \"abcdefghijklmnopqrstuvwxyz\"\n",
        "alfabeto_maiusculo = \"ABCDEFGHIJKLMNOPQRSTUVWXYZ\"\n",
        "resultado = \"\"\n",
        "\n",
        "for letra in texto:\n",
        "    if letra.islower():\n",
        "        indice = alfabeto_minusculo.index(letra)\n",
        "        nova_letra = alfabeto_minusculo[(indice + 1) % 26]\n",
        "        resultado += nova_letra\n",
        "    elif letra.isupper():\n",
        "        indice = alfabeto_maiusculo.index(letra)\n",
        "        nova_letra = alfabeto_maiusculo[(indice + 1) % 26]\n",
        "        resultado += nova_letra\n",
        "    else:\n",
        "        resultado += letra\n",
        "\n",
        "print(\"Texto criptografado:\", resultado)\n"
      ]
    },
    {
      "cell_type": "markdown",
      "id": "4897443b",
      "metadata": {
        "id": "4897443b"
      },
      "source": [
        "### 10. **Anagrama**: Verifique se duas palavras são **anagramas**, usando dicionário para contar ocorrências."
      ]
    },
    {
      "cell_type": "code",
      "execution_count": 27,
      "id": "4c53848e",
      "metadata": {
        "id": "4c53848e",
        "colab": {
          "base_uri": "https://localhost:8080/"
        },
        "outputId": "ff52df7f-ee2e-4b15-d511-5e9f13d36d5f"
      },
      "outputs": [
        {
          "output_type": "stream",
          "name": "stdout",
          "text": [
            "Digite a primeira palavra: pablo\n",
            "Digite a segunda palavra: ablop\n",
            "As palavras são anagramas.\n"
          ]
        }
      ],
      "source": [
        "palavra1 = input(\"Digite a primeira palavra: \")\n",
        "palavra2 = input(\"Digite a segunda palavra: \")\n",
        "ocorrencias1 = {}\n",
        "for letra in palavra1:\n",
        "    if letra in ocorrencias1:\n",
        "        ocorrencias1[letra] += 1\n",
        "    else:\n",
        "        ocorrencias1[letra] = 1\n",
        "ocorrencias2 = {}\n",
        "for letra in palavra2:\n",
        "    if letra in ocorrencias2:\n",
        "        ocorrencias2[letra] += 1\n",
        "    else:\n",
        "        ocorrencias2[letra] = 1\n",
        "if ocorrencias1 == ocorrencias2:\n",
        "    print(\"As palavras são anagramas.\")\n",
        "else:\n",
        "    print(\"As palavras não são anagramas.\")\n"
      ]
    }
  ],
  "metadata": {
    "colab": {
      "provenance": [],
      "include_colab_link": true
    },
    "language_info": {
      "name": "python"
    },
    "kernelspec": {
      "name": "python3",
      "display_name": "Python 3"
    }
  },
  "nbformat": 4,
  "nbformat_minor": 5
}