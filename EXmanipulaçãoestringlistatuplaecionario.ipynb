{
  "nbformat": 4,
  "nbformat_minor": 0,
  "metadata": {
    "colab": {
      "provenance": [],
      "authorship_tag": "ABX9TyN2VrgenswKgzio2S3vXNN1",
      "include_colab_link": true
    },
    "kernelspec": {
      "name": "python3",
      "display_name": "Python 3"
    },
    "language_info": {
      "name": "python"
    }
  },
  "cells": [
    {
      "cell_type": "markdown",
      "metadata": {
        "id": "view-in-github",
        "colab_type": "text"
      },
      "source": [
        "<a href=\"https://colab.research.google.com/github/JheanSantanaM/PA_2025/blob/main/EXmanipula%C3%A7%C3%A3oestringlistatuplaecionario.ipynb\" target=\"_parent\"><img src=\"https://colab.research.google.com/assets/colab-badge.svg\" alt=\"Open In Colab\"/></a>"
      ]
    },
    {
      "cell_type": "markdown",
      "source": [
        "#Manipulação de string"
      ],
      "metadata": {
        "id": "_7inM_u62CoJ"
      }
    },
    {
      "cell_type": "code",
      "execution_count": null,
      "metadata": {
        "id": "SSxNivsQ12Eg"
      },
      "outputs": [],
      "source": [
        "# 1 - Use o método len para imprimir o comprimento da string.\n",
        "x = \"Hello World\"\n",
        "print(len(x))\n"
      ]
    },
    {
      "cell_type": "code",
      "source": [
        "# 2 - Obtenha o primeiro caractere da string txt.\n",
        "txt = \"Hello World\"\n",
        "x=txt[0]\n",
        "print(x)"
      ],
      "metadata": {
        "id": "N_VuvS-v26cO"
      },
      "execution_count": null,
      "outputs": []
    },
    {
      "cell_type": "code",
      "source": [
        "# 3 - Obtenha os caracteres do índice 2 ao índice 4 ( llo).\n",
        "txt = \"Hello World\"\n",
        "x = txt[2:5]\n",
        "print(x)"
      ],
      "metadata": {
        "id": "-IJQi7MO27Ht"
      },
      "execution_count": null,
      "outputs": []
    },
    {
      "cell_type": "code",
      "source": [
        "# 4 - Converta o valor de txt para maiúsculas.\n",
        "txt = \"Hello World\"\n",
        "txt = txt.upper()\n",
        "print(txt)"
      ],
      "metadata": {
        "id": "NrBGf31P2-Ve"
      },
      "execution_count": null,
      "outputs": []
    },
    {
      "cell_type": "code",
      "source": [
        "# 5 - Conte quantas vezes aparece a palavra \"de\" na string abaixo\n",
        "txt = \"Eu gosto de vijar, tomar vinho, de estudar estudar programação, de estudar Pyhon\"\n",
        "txt = txt.count(\"de\")\n",
        "print(txt)"
      ],
      "metadata": {
        "id": "r522f-Zt3CXN"
      },
      "execution_count": null,
      "outputs": []
    },
    {
      "cell_type": "code",
      "source": [
        "# 6 - Separe a frase abaixo toda vez que encontrar um vírgula\n",
        "txt = \"Eu gosto de vijar, tomar vinho, de estudar estudar programação, de estudar Pyhon\"\n",
        "txt = txt.split(\",\")\n",
        "print(txt)"
      ],
      "metadata": {
        "id": "EGQAiNPY3EiN"
      },
      "execution_count": null,
      "outputs": []
    },
    {
      "cell_type": "code",
      "source": [
        "#7 - Peça ao usuário uma frase e substitua todas as ocorrências de espaço por “#”.\n",
        "txt = str(input(\"Digite uma frase: \"))\n",
        "rp = txt.replace(\" \", \"#\")\n",
        "print(rp)"
      ],
      "metadata": {
        "id": "M51UdcGU3HWF"
      },
      "execution_count": null,
      "outputs": []
    },
    {
      "cell_type": "code",
      "source": [
        "# 8 - Faça um programa que retorne True se duas strings lidas do teclado são palíndromas mútuas, ou seja, se uma é igual à outra quando lida de traz para frente ou False, se não forem.\n",
        "# Por exemplo: amor e roma\n",
        "pala1 = input(\"Digite uma palavra: \").lower()\n",
        "pala2 = input(\"Digite outra palavra: \").lower()\n",
        "\n",
        "inv1 = pala1[::-1]\n",
        "inv2 = pala2[::-1]\n",
        "\n",
        "if inv1 == pala2 and inv2 == pala1:\n",
        "    print(\"É Palíndromo Mútuo\")\n",
        "elif inv1 == pala1 and inv2 == pala2:\n",
        "    print(\"As Duas São Palíndromos Difirentes\")\n",
        "elif inv1 == pala1:\n",
        "    print(\"A Primeira é um Palíndromo\")\n",
        "elif inv2 == pala2:\n",
        "    print(\"A Segunda é um Palíndromo\")\n",
        "else:\n",
        "    print(\"Nenhuma palavra palíndroma\")"
      ],
      "metadata": {
        "id": "J40DBY8q3K0N"
      },
      "execution_count": null,
      "outputs": []
    },
    {
      "cell_type": "code",
      "source": [
        "# 9- Faça um programa que leia o nome do usuário e mostre o nome de traz para frente, utilizando somente letras maiúsculas.\n",
        "txt = str(input(\"Digite seu nome: \"))\n",
        "contra = txt[::-1]\n",
        "maius = contra.upper()\n",
        "print(maius)"
      ],
      "metadata": {
        "id": "fF1Qww3c3QKN"
      },
      "execution_count": null,
      "outputs": []
    },
    {
      "cell_type": "markdown",
      "source": [
        "#Lista, tupla e dicionário"
      ],
      "metadata": {
        "id": "ChZbNtgp5ZUo"
      }
    },
    {
      "cell_type": "code",
      "source": [
        "#Ex1\n",
        "cidades = [\"Mauá\", \"Ribeirão Pires\", \"Rio Grande Das Trevas\", \"Guapituba\", \"Santo André\"]\n",
        "\n",
        "cidades.append(\"Diadema\")\n",
        "\n",
        "cidades.pop(1)\n",
        "\n",
        "print(cidades)\n",
        ""
      ],
      "metadata": {
        "id": "5Iby18JC5e73"
      },
      "execution_count": null,
      "outputs": []
    },
    {
      "cell_type": "code",
      "source": [
        "#Ex2\n",
        "cores = \"Vermelho\", \"Verde\", \"Preto\", \"Azul\"\n",
        "cores2 = cores + (\"Amarelo\", \"Roxo\")\n",
        "print(cores2)"
      ],
      "metadata": {
        "id": "-FdZiAat5j8v"
      },
      "execution_count": null,
      "outputs": []
    },
    {
      "cell_type": "code",
      "source": [
        "#Ex3\n",
        "alunos = {\n",
        "    \"nome\": \"Jhean Noim\",\n",
        "    \"idade\": 15,\n",
        "    \"curso\": \"T.I\"\n",
        "}\n",
        "\n",
        "alunos[\"idade\"] = 16\n",
        "alunos[\"nota\"] = \"MB\"\n",
        "print(alunos)\n",
        ""
      ],
      "metadata": {
        "id": "dZro4th35mkn"
      },
      "execution_count": null,
      "outputs": []
    },
    {
      "cell_type": "code",
      "source": [
        "#Ex4\n",
        "produtos = [\n",
        "\n",
        "            {\"nome\": \"Astra\", \"preço\": 15000},\n",
        "    {\"nome\": \"Civic\", \"preço\": 20000},\n",
        "    {\"nome\": \"Gol GTI\", \"preço\": 25000}\n",
        "]\n",
        "\n",
        "produtos.append({\"nome\": \"Santana\", \"preço\": 15000})\n",
        "\n",
        "produtos[0][\"preço\"] = 25000\n",
        "\n",
        "print(produtos)"
      ],
      "metadata": {
        "id": "-aJVR0eP5r9W"
      },
      "execution_count": null,
      "outputs": []
    },
    {
      "cell_type": "code",
      "source": [
        "#Ex5\n",
        "lista =[('Rafael', 15), ('jhean', 21), ('pietro', 24), ('molon', 69)]"
      ],
      "metadata": {
        "id": "p25eWPQw57aV"
      },
      "execution_count": null,
      "outputs": []
    },
    {
      "cell_type": "code",
      "source": [
        "maisvelho = 0\n",
        "nomedovei = \"\"\n",
        "\n",
        "if lista[0][1] > maisvelho:\n",
        "  maisvelho = lista[0][1]\n",
        "  nomedovei = lista[0][0]\n",
        "if lista[1][1] > maisvelho:\n",
        "  maisvelho = lista[1][1]\n",
        "  nomedovei = lista[1][0]\n",
        "if lista[2][1] > maisvelho:\n",
        "  maisvelho = lista[2][1]\n",
        "  nomedovei = lista[2][0]\n",
        "if lista[3][1] > maisvelho:\n",
        "  maisvelho = lista[3][1]\n",
        "  nomedovei = lista[3][0]\n",
        "media = (lista[0][1] + lista[1][1] + lista[2][1] + lista[3][1])/4\n",
        "\n",
        "print(f\"A pessoa mais velha é: {nomedovei} com a idade de : {maisvelho}, e a media de idade é: {media}\")"
      ],
      "metadata": {
        "id": "VgumDnZP58lV"
      },
      "execution_count": null,
      "outputs": []
    }
  ]
}