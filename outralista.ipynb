{
  "cells": [
    {
      "cell_type": "markdown",
      "metadata": {
        "id": "view-in-github",
        "colab_type": "text"
      },
      "source": [
        "<a href=\"https://colab.research.google.com/github/JheanSantanaM/PA_2025/blob/main/outralista.ipynb\" target=\"_parent\"><img src=\"https://colab.research.google.com/assets/colab-badge.svg\" alt=\"Open In Colab\"/></a>"
      ]
    },
    {
      "cell_type": "markdown",
      "metadata": {
        "id": "CzUH7eJ2RlRe"
      },
      "source": [
        "#1) Tuplas - Acesso e Desempacotamento\n",
        "Crie uma tupla contendo três tipos diferentes de dados: um número, uma string e uma lista. Use um laço de repetição para acessar e imprimir cada item da tupla. Além disso, dentro do laço, acesse e imprima o segundo item da lista que está dentro da tupla."
      ]
    },
    {
      "cell_type": "code",
      "execution_count": null,
      "metadata": {
        "colab": {
          "base_uri": "https://localhost:8080/"
        },
        "id": "RIj7LIerRsYu",
        "outputId": "21b54306-2a73-4ae3-e4ce-cb690d9bc296"
      },
      "outputs": [
        {
          "name": "stdout",
          "output_type": "stream",
          "text": [
            "1\n",
            "2\n",
            "Arroz\n",
            "2\n",
            "[1, 2, 3]\n",
            "2\n"
          ]
        }
      ],
      "source": [
        "tupla= (1, \"Arroz\", [1,2,3])\n",
        "\n",
        "for item in tupla:\n",
        "  print(item)\n",
        "  print(tupla[2][1])"
      ]
    },
    {
      "cell_type": "markdown",
      "metadata": {
        "id": "xqz6XQWHSM7q"
      },
      "source": [
        "#2) Cadastro de Pessoas e Análise de Alturas\n",
        "Solicite ao usuário para inserir o nome e a altura de várias pessoas. Preencha um dicionário com essas informações e depois encontre e imprima o nome e a altura da pessoa mais alta e da mais baixa.\n"
      ]
    },
    {
      "cell_type": "code",
      "execution_count": 1,
      "metadata": {
        "colab": {
          "base_uri": "https://localhost:8080/"
        },
        "id": "1kBTAY9hSQNs",
        "outputId": "9226af77-858e-42ac-af5d-622e3018b34f"
      },
      "outputs": [
        {
          "output_type": "stream",
          "name": "stdout",
          "text": [
            "Digite quantas pessoas você quer cadastrar: 5\n",
            "Digite o nome da 1ª pessoa: jhean\n",
            "Digite a altura de jhean em metros: 1.82\n",
            "Digite o nome da 2ª pessoa: juninho\n",
            "Digite a altura de juninho em metros: 1.75\n",
            "Digite o nome da 3ª pessoa: flavio\n",
            "Digite a altura de flavio em metros: 1.70\n",
            "Digite o nome da 4ª pessoa: miguel\n",
            "Digite a altura de miguel em metros: 1.78\n",
            "Digite o nome da 5ª pessoa: pietro\n",
            "Digite a altura de pietro em metros: 1.74\n",
            "Pessoa mais alta é o/a jhean com 1.82 m\n",
            "Pessoa mais baixa é o/a flavio com 1.7 m\n"
          ]
        }
      ],
      "source": [
        "pessoas = {}\n",
        "quantidade = int(input(\"Digite quantas pessoas você quer cadastrar: \"))\n",
        "\n",
        "i = 0\n",
        "while i < quantidade:\n",
        "    nome = input(f\"Digite o nome da {i+1}ª pessoa: \")\n",
        "    altura = float(input(f\"Digite a altura de {nome} em metros: \"))\n",
        "    pessoas[nome] = altura\n",
        "    i= i+1\n",
        "nomes = list(pessoas.keys())\n",
        "alto = nomes[0]\n",
        "baixo = nomes[0]\n",
        "for nome in pessoas:\n",
        "    if pessoas[nome] > pessoas[alto]:\n",
        "        alto = nome\n",
        "    if pessoas[nome] < pessoas[baixo]:\n",
        "        baixo = nome\n",
        "\n",
        "print(f\"Pessoa mais alta é o/a {alto} com {pessoas[alto]} m\")\n",
        "print(f\"Pessoa mais baixa é o/a {baixo} com {pessoas[baixo]} m\")"
      ]
    },
    {
      "cell_type": "markdown",
      "source": [
        "#3) Lista, laços e Condicionais\n",
        "Descrição: Crie uma lista com cinco números inteiros. Use um laço de repetição e uma condicional para imprimir apenas os números que são múltiplos de 3.\n"
      ],
      "metadata": {
        "id": "JFY7rPWZXRtZ"
      }
    },
    {
      "cell_type": "code",
      "source": [
        "lista= [15,3,2,6,10]\n",
        "\n",
        "for n in lista:\n",
        "  if n % 3 == 0:\n",
        "    print(n)"
      ],
      "metadata": {
        "colab": {
          "base_uri": "https://localhost:8080/"
        },
        "id": "2V3gq6KcXS-L",
        "outputId": "54c2b54a-7eeb-4bf9-a29c-17444ef31750"
      },
      "execution_count": null,
      "outputs": [
        {
          "output_type": "stream",
          "name": "stdout",
          "text": [
            "15\n",
            "3\n",
            "6\n"
          ]
        }
      ]
    },
    {
      "cell_type": "markdown",
      "source": [
        "#4) Manipulação de Strings e Condicionais\n",
        "Descrição: Crie uma string com uma frase. Use uma condicional para verificar se a frase contém a palavra \"Python\". Se sim, substitua a palavra \"Python\" por \"programação\" e imprima a nova frase."
      ],
      "metadata": {
        "id": "fAMtiRA5YPs-"
      }
    },
    {
      "cell_type": "code",
      "source": [
        "frase= \"Eu amo python\"\n",
        "frase2= \" \"\n",
        "\n",
        "if \"python\" in frase:\n",
        "  frase= frase.replace(\"python\", \"programação\")\n",
        "  frase2= frase\n",
        "print(frase2)"
      ],
      "metadata": {
        "colab": {
          "base_uri": "https://localhost:8080/"
        },
        "id": "0DZ_63mHYWP5",
        "outputId": "2741385b-e2ef-4465-f466-0d115d22147a"
      },
      "execution_count": 8,
      "outputs": [
        {
          "output_type": "stream",
          "name": "stdout",
          "text": [
            "Eu amo programação\n"
          ]
        }
      ]
    },
    {
      "cell_type": "markdown",
      "source": [
        "#5) Simulação de Alfândega com Cadastro Dinâmico de Itens usando dicionário\n",
        "Simule uma situação de alfândega onde o funcionário cadastra itens novos encontrados na mala de uma pessoa que veio de uma viagem internacional. Após o cadastro de todos os itens, o programa imprime uma nota com todos os itens e seus preços, calcula o valor total e, se o valor total ultrapassar 500 dólares, calcula o valor de 60% a ser pago.\n",
        "\n"
      ],
      "metadata": {
        "id": "KPsMLQzhZ3Hq"
      }
    },
    {
      "cell_type": "code",
      "source": [
        "item= {}\n",
        "total= 0\n",
        "quantidade= int(input(\"Digite quantos itens deseja cadastrar: \"))\n",
        "\n",
        "for items in range(quantidade):\n",
        "  nome= str(input(f\"Digite o nome do {items+1}º Item: \"))\n",
        "  preco= float(input(\"Digite o preço em Doláres: \"))\n",
        "  item[nome]= preco\n",
        "\n",
        "for nome, p in item.items():\n",
        "  total= total+p\n",
        "if total > 500:\n",
        "  imp= total*60/100\n",
        "  total= imp+total\n",
        "  print(\"Tem impostos de valor de $\", imp,\", o valor total é de $\",total)\n",
        "else:\n",
        "  print(\"Não tem impostos a se pagar\")"
      ],
      "metadata": {
        "colab": {
          "base_uri": "https://localhost:8080/"
        },
        "id": "JDpr9s7tZ5le",
        "outputId": "0f1da023-f311-44e2-94a0-43a0f7ab6c72"
      },
      "execution_count": null,
      "outputs": [
        {
          "output_type": "stream",
          "name": "stdout",
          "text": [
            "Digite quantos itens deseja cadastrar: 3\n",
            "Digite o nome do 1º Item: Caneta\n",
            "Digite o preço em Doláres: 20\n",
            "Digite o nome do 2º Item: Celular\n",
            "Digite o preço em Doláres: 250\n",
            "Digite o nome do 3º Item: Fone\n",
            "Digite o preço em Doláres: 235\n",
            "Tem impostos de valor de $ 303.0 , o valor total é de $ 808.0\n"
          ]
        }
      ]
    },
    {
      "cell_type": "markdown",
      "source": [
        "#6) Identificação de Palavras Negativas em um Texto\n",
        "Você vai criar um programa em Python para analisar um texto e identificar palavras que expressam pensamentos negativos. Para isso, você usará uma lista de palavras negativas fornecida e verificará quais dessas palavras estão presentes no texto fornecido pelo usuário. Exemplo de palavras negtivas, acrescente mais na lista: # Lista de palavras negativas palavras_negativas = ['triste', 'deprimido', 'ansioso', 'desapontado', 'frustrado']"
      ],
      "metadata": {
        "id": "nxGMpbw7gvY4"
      }
    },
    {
      "cell_type": "code",
      "source": [
        "palavras_negativas = ['triste', 'deprimido', 'ansioso', 'desapontado', 'frustrado']\n",
        "usuario= str(input(\"Digite uma frase: \")).lower()\n",
        "acho= []\n",
        "\n",
        "for palavra in palavras_negativas:\n",
        "  if palavra in usuario:\n",
        "    acho.append(palavra)\n",
        "\n",
        "if acho != []:\n",
        "  print(\"Palavras negativas achadas: \")\n",
        "  for p in acho:\n",
        "    print(p)\n",
        "else:\n",
        "  print(\"Nenhuma palavra achada!\")"
      ],
      "metadata": {
        "colab": {
          "base_uri": "https://localhost:8080/"
        },
        "id": "Q2c1oP2TgyoQ",
        "outputId": "9a35b355-cce9-49e4-b8c3-035aaa5618dc"
      },
      "execution_count": 10,
      "outputs": [
        {
          "output_type": "stream",
          "name": "stdout",
          "text": [
            "Digite uma frase: estou triste\n",
            "Palavras negativas achadas: \n",
            "triste\n"
          ]
        }
      ]
    }
  ],
  "metadata": {
    "colab": {
      "provenance": [],
      "include_colab_link": true
    },
    "kernelspec": {
      "display_name": "Python 3",
      "name": "python3"
    },
    "language_info": {
      "name": "python"
    }
  },
  "nbformat": 4,
  "nbformat_minor": 0
}