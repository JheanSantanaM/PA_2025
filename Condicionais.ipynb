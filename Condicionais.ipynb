{
  "nbformat": 4,
  "nbformat_minor": 0,
  "metadata": {
    "colab": {
      "provenance": [],
      "authorship_tag": "ABX9TyOwcUMz9Vm5duKs1wgrnLFA",
      "include_colab_link": true
    },
    "kernelspec": {
      "name": "python3",
      "display_name": "Python 3"
    },
    "language_info": {
      "name": "python"
    }
  },
  "cells": [
    {
      "cell_type": "markdown",
      "metadata": {
        "id": "view-in-github",
        "colab_type": "text"
      },
      "source": [
        "<a href=\"https://colab.research.google.com/github/JheanSantanaM/PA_2025/blob/main/Condicionais.ipynb\" target=\"_parent\"><img src=\"https://colab.research.google.com/assets/colab-badge.svg\" alt=\"Open In Colab\"/></a>"
      ]
    },
    {
      "cell_type": "markdown",
      "source": [
        "#Tipos de Condicionais\n",
        "Condicional simples: Possui apenas duas possibilidades (true or false)"
      ],
      "metadata": {
        "id": "nQ4k42ZADX6v"
      }
    },
    {
      "cell_type": "code",
      "execution_count": null,
      "metadata": {
        "colab": {
          "base_uri": "https://localhost:8080/"
        },
        "id": "_ZnZyIJRDLQm",
        "outputId": "537699ca-6f03-46c2-87c5-fdf600efc4ea"
      },
      "outputs": [
        {
          "output_type": "stream",
          "name": "stdout",
          "text": [
            "Digite a primeira nota: 10\n",
            "nota computada.\n",
            "Digite a segunda nota: 10\n",
            "nota 2 computada.\n",
            "Digite a terceira nota: 10\n",
            "nota 3 computada.\n",
            "10.0\n",
            "você foi aprovado.\n"
          ]
        }
      ],
      "source": [
        "nota1 = float(input('Digite a primeira nota: '))\n",
        "if (nota1 >= 0 and nota1 <= 10):\n",
        "  print(\"nota computada.\")\n",
        "else:\n",
        "  print(\"essa não foi registrada pois não estava entre 0 e 10!\")\n",
        "  print(\"execute novamente o programa!\")\n",
        "nota2 =  float(input('Digite a segunda nota: '))\n",
        "if (nota2 >= 0 and nota2 <= 10):\n",
        "  print(\"nota 2 computada.\")\n",
        "else:\n",
        "  print(\"essa não foi registrada pois não estava entre 0 e 10!\")\n",
        "  print(\"execute novamente o programa!\")\n",
        "  nota2 = nota1\n",
        "nota3 =  float(input('Digite a terceira nota: '))\n",
        "if (nota3 >= 0 and nota3 <= 10):\n",
        "  print(\"nota 3 computada.\")\n",
        "else:\n",
        "  print(\"essa não foi registrada pois não estava entre 0 e 10!\")\n",
        "  print(\"execute novamente o programa!\")\n",
        "  nota3 = nota1\n",
        "media = (nota1 + nota2 + nota3) / 3\n",
        "print(media)\n",
        "if (media >= 7):\n",
        " print('você foi aprovado.')\n",
        "else:\n",
        "  print('Você foi reprovado. ')"
      ]
    },
    {
      "cell_type": "markdown",
      "source": [
        "#Condicional Composto\n",
        "##Possui mais de duas posssibilidades de decisão."
      ],
      "metadata": {
        "id": "3La6mZbyNUgE"
      }
    },
    {
      "cell_type": "code",
      "source": [
        "nota1 = float(input('Digite a primeira nota: '))\n",
        "if (nota1 >= 0 and nota1 <= 10):\n",
        "  print(\"nota computada.\")\n",
        "else:\n",
        "  print(\"essa não foi registrada pois não estava entre 0 e 10!\")\n",
        "  print(\"execute novamente o programa!\")\n",
        "nota2 =  float(input('Digite a segunda nota: '))\n",
        "if (nota2 >= 0 and nota2 <= 10):\n",
        "  print(\"nota 2 computada.\")\n",
        "else:\n",
        "  print(\"essa não foi registrada pois não estava entre 0 e 10!\")\n",
        "  print(\"execute novamente o programa!\")\n",
        "  nota2 = nota1\n",
        "nota3 =  float(input('Digite a terceira nota: '))\n",
        "if (nota3 >= 0 and nota3 <= 10):\n",
        "  print(\"nota 3 computada.\")\n",
        "else:\n",
        "  print(\"essa não foi registrada pois não estava entre 0 e 10!\")\n",
        "  print(\"execute novamente o programa!\")\n",
        "  nota3 = nota1\n",
        "media = (nota1 + nota2 + nota3) / 3\n",
        "print(media)\n",
        "if media < 5:\n",
        "  print(\"Sua menção final é I.\")\n",
        "elif (media >= 5 and media < 6.5):\n",
        "  print(\"Sua menção final é R.\")\n",
        "elif (media >= 6.5 and media < 8.5):\n",
        "  print(\"sua menção final é B.\")\n",
        "else:\n",
        "  print(\"Sua menção final é MB.\")"
      ],
      "metadata": {
        "colab": {
          "base_uri": "https://localhost:8080/"
        },
        "id": "p223OqV1OUgY",
        "outputId": "2dd66477-3f57-4490-a3dd-227dcb0f5221"
      },
      "execution_count": null,
      "outputs": [
        {
          "output_type": "stream",
          "name": "stdout",
          "text": [
            "Digite a primeira nota: 0\n",
            "nota computada.\n",
            "Digite a segunda nota: 0\n",
            "nota 2 computada.\n",
            "Digite a terceira nota: 10\n",
            "nota 3 computada.\n",
            "3.3333333333333335\n",
            "Sua menção final é I.\n"
          ]
        }
      ]
    },
    {
      "cell_type": "markdown",
      "source": [
        "#Condicional Aninhada\n",
        "## Quando o segundo if só é executado quando o primeiro for TRUE"
      ],
      "metadata": {
        "id": "O03ToUoBSNzR"
      }
    },
    {
      "cell_type": "code",
      "source": [
        "usuariocerto = \"Jhean\"\n",
        "senhacerta = 123456\n",
        "usuario = input(\"Digite seu usuário.\")\n",
        "if (usuario == usuariocerto):\n",
        "  senha = int(input(\"Digite sua senha.\"))\n",
        "  if (senha == senhacerta):\n",
        "    print(\"Usuário logado.\")\n",
        "  else:\n",
        "    print(\"senha invalida.\")\n",
        "else:\n",
        "  print(\"Usuário invalido\")"
      ],
      "metadata": {
        "colab": {
          "base_uri": "https://localhost:8080/"
        },
        "id": "V_r_ZD0OSidX",
        "outputId": "07b33bee-7632-4005-9653-cba92e22b64c"
      },
      "execution_count": null,
      "outputs": [
        {
          "output_type": "stream",
          "name": "stdout",
          "text": [
            "Digite seu usuário.jdfh\n",
            "Usuário invalido\n"
          ]
        }
      ]
    },
    {
      "cell_type": "markdown",
      "source": [
        "#Lista de exercícios"
      ],
      "metadata": {
        "id": "n-FETxoHZcF-"
      }
    },
    {
      "cell_type": "markdown",
      "source": [
        "Faça um programa que solicite ao usuário três valores (lados de um triangulo), verifique se é um triangulo e informe se ele é isóceles, equilatero ou escaleno."
      ],
      "metadata": {
        "id": "x6ClyAimZ5bw"
      }
    },
    {
      "cell_type": "code",
      "source": [
        "lado1 = float(input('Digite o lado 1: '))\n",
        "lado2 = float(input('Digite o lado 2: '))\n",
        "lado3 = float(input('Digite o lado 3: '))\n",
        "if (lado1 + lado2 + lado3) and (lado1 + lado3 > lado2) and (lado2 + lado3 > lado1):\n",
        "  if (lado1 == lado2 == lado3):\n",
        "    print(\"Triangulo equilatero\")\n",
        "  elif (lado1 != lado2 and lado1 != lado3):\n",
        "    print(\"Triangulo escaleno\")\n",
        "  else:\n",
        "    print(\"Triangulo isoceles\")\n",
        "else:\n",
        "  print(\"os lados não formam um traingulo1\")"
      ],
      "metadata": {
        "id": "74HYjWMQZhTo",
        "colab": {
          "base_uri": "https://localhost:8080/"
        },
        "outputId": "498a3047-4149-4566-b8c6-98fc684a7a5c"
      },
      "execution_count": 8,
      "outputs": [
        {
          "output_type": "stream",
          "name": "stdout",
          "text": [
            "Digite o lado 1: 10\n",
            "Digite o lado 2: 10\n",
            "Digite o lado 3: 5\n",
            "Triangulo isoceles\n"
          ]
        }
      ]
    },
    {
      "cell_type": "markdown",
      "source": [
        "2.\n",
        "Peça para o usuário digitar um valor informe se ele é par ou impar"
      ],
      "metadata": {
        "id": "vvvW4JEEM6D8"
      }
    },
    {
      "cell_type": "code",
      "source": [
        "numero = int(input(\"qual numero?\"))\n",
        "impar = numero%2\n",
        "if (impar == numero%2 > 0):\n",
        " print('o numero é impar')\n",
        "else:\n",
        "  print('o numero é par')"
      ],
      "metadata": {
        "colab": {
          "base_uri": "https://localhost:8080/"
        },
        "id": "SIc9p2evNETD",
        "outputId": "d1ab68b1-745f-44cb-fecb-ceb95fe0b410"
      },
      "execution_count": null,
      "outputs": [
        {
          "output_type": "stream",
          "name": "stdout",
          "text": [
            "qual numero?4\n",
            "o numero é par\n"
          ]
        }
      ]
    },
    {
      "cell_type": "markdown",
      "source": [
        "Faça um programa que solicite peso e altura, informe seu IMC. Ao final informe se ele está, abaixo do peso,peso ideal ou acima do peso. fórmula do IMC: (peso/altura^2), siga a tabela abaixo:I"
      ],
      "metadata": {
        "id": "1QWIRw2SUgGt"
      }
    },
    {
      "cell_type": "code",
      "source": [
        "peso = float(input('Digite seu peso: '))\n",
        "altura = float(input('Digite sua altura: '))\n",
        "imc = (peso/altura**2)\n",
        "print(f'o seu imc é' , imc)\n",
        "if  (imc < 18.5):\n",
        "  print('você está abaixo do peso.')\n",
        "elif (18.5 <= imc <= 24.9):\n",
        "  print('seu peso está normal.')\n",
        "elif (25 <= imc <= 29.9):\n",
        "  print('você está com sobrepeso.')\n",
        "elif (30 <= imc <= 34.9):\n",
        "  print('você esta com o grau de obesidade 1.')\n",
        "elif (35 <= imc <= 39.9):\n",
        "  print('você está com grau de obesidade 2.')\n",
        "else:\n",
        "  print('você está com grau de obesidade 3.')"
      ],
      "metadata": {
        "colab": {
          "base_uri": "https://localhost:8080/"
        },
        "id": "EkAQCP4CUkhp",
        "outputId": "1293d8b4-0e9c-4080-952b-f9d8d667c255"
      },
      "execution_count": null,
      "outputs": [
        {
          "output_type": "stream",
          "name": "stdout",
          "text": [
            "Digite seu peso: 70\n",
            "Digite sua altura: 1.80\n",
            "o seu imc é 21.604938271604937\n",
            "seu peso está normal.\n"
          ]
        }
      ]
    },
    {
      "cell_type": "markdown",
      "source": [
        "4. Caixa Eletrônico com Login e Operações Bancárias\n",
        "\n",
        "Crie um programa que simule um caixa eletrônico. O programa deve:\n",
        "\n",
        "Solicitar ao usuário nome de usuário e senha para acessar a conta bancária (use valores fictícios para usuário e senha, por exemplo, \"cliente\" e \"1234\").\n",
        "\n",
        "Se o usuário ou a senha estiver incorreto, o programa deve bloquear o acesso e exibir a mensagem: \"Usuário ou senha incorretos. Tente novamente.\""
      ],
      "metadata": {
        "id": "xeUH0L_OY4Ne"
      }
    },
    {
      "cell_type": "code",
      "source": [
        "usuario_correto = 'jhean'\n",
        "senha_certa = '1234'\n",
        "usuario = input('digite seu usuario:')\n",
        "if (usuario == usuario_correto):\n",
        "  print('seu usuario está correto.')\n",
        "  senha = input('digite sua senha:')\n",
        "  if (senha == senha_certa):\n",
        "    print(\"Sua senha está certa.\")\n",
        "  else:\n",
        "    print('sua senha está errada.')\n",
        "else:\n",
        "  print('usuario incorreto, tente novamente.')"
      ],
      "metadata": {
        "colab": {
          "base_uri": "https://localhost:8080/"
        },
        "id": "Qn7wdSnsY7oD",
        "outputId": "5df990e9-c4f0-432f-c7f9-f562eb2ab363"
      },
      "execution_count": null,
      "outputs": [
        {
          "output_type": "stream",
          "name": "stdout",
          "text": [
            "digite seu usuario:juninho\n",
            "usuario incorreto, tente novamente.\n"
          ]
        }
      ]
    },
    {
      "cell_type": "markdown",
      "source": [
        "5. Exercício – Simulador de Saque e Depósito com Limite\n",
        "\n",
        "Sequência do exercício anterior\n",
        "\n",
        "Deverá ter os valores fixos de\n",
        "\n",
        "Exemplo:\n",
        "\n",
        "limite = 3000\n",
        "\n",
        "saldo = - 50.00\n",
        "\n",
        "Se o login for bem-sucedido, o programa deve exibir as opções de escolha para o usuário de saque, depósito ou ver saldo, e o usuário poderá escolher qual operação deseja realizar.\n",
        "\n",
        "Exemplo:\n",
        "\n",
        "Digite 1 para sacar\n",
        "\n",
        "Digite 2 para depositar\n",
        "\n",
        "Digite 3 para ver o saldo\n",
        "\n",
        "Porém ao final de cada operação de saque ou depósito, mostre como ficou o saldo do cliente no banco. Sempre mostranto saldo e o restante do limite do banco.\n",
        "\n",
        "Caso o usuário escolha sacar:\n",
        "\n",
        "Solicitar o valor que deseja sacar.\n",
        "\n",
        "Verificar se o saque pode ser realizado, considerando o saldo mais o limite disponível.\n",
        "\n",
        "Informar se o saque foi autorizado ou negado.\n",
        "\n",
        "Se autorizado, informar o saldo final e se ele é positivo ou negativo.\n",
        "\n",
        "Não esqueça de atualizar o saldo\n",
        "\n",
        "Informar qual o valor negativo que ele está caso esteja usando o limite do Banco.\n",
        "\n",
        "Caso o usuário escolha depositar:\n",
        "\n",
        "Solicitar o valor do depósito.\n",
        "\n",
        "Atualizar o saldo e informar o novo saldo final.\n",
        "\n",
        "Dica: Lembre-se de que o limite funciona como um \"empréstimo automático\", permitindo que o cliente saque além do saldo disponível."
      ],
      "metadata": {
        "id": "UPpNYTfziNqi"
      }
    },
    {
      "cell_type": "code",
      "source": [
        "cpf_certo = \"123456789\"\n",
        "senha_certa = \"123456\"\n",
        "saldo = 1000\n",
        "limite = 500\n",
        "cpf = input(\"digite seu CPF:\")\n",
        "if (cpf == cpf_certo):\n",
        "  senha = input(\"digite a senha:\")\n",
        "  if (senha == senha_certa):\n",
        "    print(\"conta logada\")\n",
        "    opcao = int(input(\"O que quer fazer \\ndigite 1 para sacar \\ndigite 2 para depositar \\ndigite 3 para saldo:\"))\n",
        "    if (opcao == 1):\n",
        "      sacar = float(input(\"quanto você deseja sacar?\"))\n",
        "      saldo1 = (saldo - sacar)\n",
        "      if (saldo1 < limite):\n",
        "        print(\"Você não conseguirá sacar mais de:\" , limite)\n",
        "        print(\"Saldo negativo:\" , saldo1)\n",
        "      else:\n",
        "          print(\"o seu saque foi feito com sucesso, o valor restante é:\" , saldo1)\n",
        "  if (opcao == 2):\n",
        "    valor = float(input(\"o quanto você quer depositar?\"))\n",
        "    if (valor > 0):\n",
        "      saldo2 = (saldo + valor)\n",
        "      print(\"O seu deposito foi concluido com sucesso, o seu saldo agora é:\" , saldo2)\n",
        "    else:\n",
        "      print(\"Não foi possivel realizar seu deposito\")\n",
        "  if (opcao == 3):\n",
        "    print(\"Seu saldo é\" , saldo)\n",
        "else:\n",
        "  print(\"CPF ou senha incorreto, tente novamente.\")"
      ],
      "metadata": {
        "id": "d8Ai44mmiTn-",
        "colab": {
          "base_uri": "https://localhost:8080/"
        },
        "outputId": "f9911684-9290-4350-e898-c1f77a7ef9df"
      },
      "execution_count": 12,
      "outputs": [
        {
          "output_type": "stream",
          "name": "stdout",
          "text": [
            "digite seu CPF:123456789\n",
            "digite a senha:123456\n",
            "conta logada\n",
            "O que quer fazer \n",
            "digite 1 para sacar \n",
            "digite 2 para depositar \n",
            "digite 3 para saldo:3\n",
            "Seu saldo é 1000\n"
          ]
        }
      ]
    },
    {
      "cell_type": "markdown",
      "source": [
        "Faça um programa que solicite altura e idade do usuário, informe se ele pode ou nao competir.\n",
        "\n",
        "Regras: Para competir no campeonato de vôlei o usuário de ter pelo menos 1.75 de altura e 18 anos.\n"
      ],
      "metadata": {
        "id": "A030x_5B2uVO"
      }
    },
    {
      "cell_type": "code",
      "source": [
        "altura = float(input(\"Digite sua altura.\"))\n",
        "idade = int(input('Digite sua idade.'))\n",
        "if (altura >= 1.75 and idade >= 18):\n",
        "  print(\"você pode participar.\")\n",
        "else:\n",
        "  print('você não pode participar.')"
      ],
      "metadata": {
        "colab": {
          "base_uri": "https://localhost:8080/"
        },
        "id": "UWk1t7yz2-ZI",
        "outputId": "954afcf0-09d6-403e-bdfa-28ae5b9c061f"
      },
      "execution_count": null,
      "outputs": [
        {
          "output_type": "stream",
          "name": "stdout",
          "text": [
            "Digite sua altura.1.75\n",
            "Digite sua idade.17\n",
            "você não pode participar.\n"
          ]
        }
      ]
    },
    {
      "cell_type": "markdown",
      "source": [
        "7. Faça um programa que solicite o peso do lutador de Boxe. Informe em que categoria de boxe o usuário está, segundo os critérios abaixos:\n",
        "\n",
        "PESO CATEGORIA"
      ],
      "metadata": {
        "id": "ahgS4Fbr4wZv"
      }
    },
    {
      "cell_type": "code",
      "source": [
        "peso = float(input(\"Digite seu peso:\"))\n",
        "if (peso >= 90.73):\n",
        "  print('pesado')\n",
        "elif (peso > 79.38):\n",
        "  print(\"cruzador\")\n",
        "elif (peso > 76.2):\n",
        "  print(\"Meio-pesado\")\n",
        "elif (peso > 73.03):\n",
        "  print('Super-medio')\n",
        "elif (peso > 69.85):\n",
        "  print('Medio')\n",
        "elif (peso > 66.68):\n",
        "  print('Super-meio-medio')\n",
        "elif (peso > 63.5):\n",
        "  print('meio-medio')\n",
        "elif (peso > 61.23):\n",
        "  print('Super leve')\n",
        "elif (peso > 58.97):\n",
        "  print('leve')\n",
        "elif (peso > 57.15):\n",
        "  print('super pena')\n",
        "elif (peso > 55.34):\n",
        "  print('pena')\n",
        "elif (peso > 53.52):\n",
        "  print('super galo')\n",
        "elif (peso > 51.71):\n",
        "  print('galo')\n",
        "elif (peso > 50.35):\n",
        "  print(\"super mosca\")\n",
        "elif (peso > 48.99):\n",
        "  print('mosca')\n",
        "elif (peso > 47.63):\n",
        "  print(\"mosca ligeiro\")\n",
        "elif ( peso > 46.27):\n",
        "  print(\"palha\")\n",
        "else:\n",
        "  print(\"palha ligeiro\")"
      ],
      "metadata": {
        "colab": {
          "base_uri": "https://localhost:8080/"
        },
        "id": "tYMIdQK-40xS",
        "outputId": "6cd11959-b3a2-438b-adbc-1e245c9e3aff"
      },
      "execution_count": null,
      "outputs": [
        {
          "output_type": "stream",
          "name": "stdout",
          "text": [
            "Digite seu peso:75\n",
            "Super-medio\n"
          ]
        }
      ]
    },
    {
      "cell_type": "markdown",
      "source": [
        "Uma empresa dará aumento para seus funcionários, faça um programa que faça esses cálculos, solicite o salário do funcionário e informe o aumento que o mesmo terá, seguindo os seguintes critérios:\n",
        "\n"
      ],
      "metadata": {
        "id": "KXC-Mcry_2Js"
      }
    },
    {
      "cell_type": "code",
      "source": [
        "salario = float(input('digite seu salario:'))\n",
        "if (salario <= 1500):\n",
        "  aumento = (salario * 0.20)\n",
        "  sal_novo = salario + aumento\n",
        "  print(\"O seu novo salario é:\" , sal_novo)\n",
        "elif (salario <= 3000):\n",
        "  aumento2 =(salario * 0.15)\n",
        "  sal_novo2 = salario + aumento2\n",
        "  print(\"O seu novo salario é:\" , sal_novo2)\n",
        "else:\n",
        "    aumento3 =(salario * 0.10)\n",
        "    sal_novo3 = salario + aumento3\n",
        "    print(\"O seu novo salario é:\" , sal_novo3)"
      ],
      "metadata": {
        "id": "0OYA8rnP_7tk",
        "colab": {
          "base_uri": "https://localhost:8080/"
        },
        "outputId": "bf65c58d-399d-4ce9-d65e-0e138b3ac065"
      },
      "execution_count": null,
      "outputs": [
        {
          "output_type": "stream",
          "name": "stdout",
          "text": [
            "digite seu salario:1100\n",
            "O seu novo salario é: 1320.0\n"
          ]
        }
      ]
    },
    {
      "cell_type": "markdown",
      "source": [
        "10.Simulador de frete inteligente\n",
        "\n",
        "Peça o peso do pacote (em kg) e a distância (em km) de sua cidade até o local de entrega.Calcule o frete com base em regras:\n",
        "\n",
        "Até 2kg → R$5 por 100km\n",
        "\n",
        "De 2kg a 5kg → R$8 por 100km\n",
        "\n",
        "Acima de 5kg → R$10 por 100km\n",
        "\n",
        "Exemplo de saída:\n",
        "\n",
        "\"Para um pacote de 3kg viajando 350km, o valor do frete será R$28,00\""
      ],
      "metadata": {
        "id": "vgUSTJMYAFS8"
      }
    },
    {
      "cell_type": "code",
      "source": [
        "peso = float(input(\"Coloque o peso do pacote em KG:\"))\n",
        "distancia = float(input(\"coloque a distancia em KM:\"))\n",
        "if (peso <= 2):\n",
        "  frete = distancia / 100 * 5\n",
        "  print(\"o valor de frete ficou em:\" , frete)\n",
        "elif (peso <= 5):\n",
        "  frete2 = distancia / 100 * 8\n",
        "  print(\"o valor de frete ficou em:\" , frete2)\n",
        "else:\n",
        "  frete3 = distancia / 100 * 10\n",
        "  print(\"o valor do frete ficou em:\" , frete3 , \"R$\")"
      ],
      "metadata": {
        "id": "Yf9JxHf_AJva",
        "colab": {
          "base_uri": "https://localhost:8080/"
        },
        "outputId": "f4ea0c01-19f8-4036-abf2-79037dc82b7b"
      },
      "execution_count": null,
      "outputs": [
        {
          "output_type": "stream",
          "name": "stdout",
          "text": [
            "Coloque o peso do pacote em KG:15\n",
            "coloque a distancia em KM:100\n",
            "o valor do frete ficou em: 10.0 R$\n"
          ]
        }
      ]
    }
  ]
}