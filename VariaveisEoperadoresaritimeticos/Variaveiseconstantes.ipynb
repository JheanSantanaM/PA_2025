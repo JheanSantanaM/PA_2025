{
  "nbformat": 4,
  "nbformat_minor": 0,
  "metadata": {
    "colab": {
      "provenance": [],
      "authorship_tag": "ABX9TyOaTJbVPiOTIfFAGvvt2qBY",
      "include_colab_link": true
    },
    "kernelspec": {
      "name": "python3",
      "display_name": "Python 3"
    },
    "language_info": {
      "name": "python"
    }
  },
  "cells": [
    {
      "cell_type": "markdown",
      "metadata": {
        "id": "view-in-github",
        "colab_type": "text"
      },
      "source": [
        "<a href=\"https://colab.research.google.com/github/JheanSantanaM/PA_2025/blob/main/VariaveisEoperadoresaritimeticos/Variaveiseconstantes.ipynb\" target=\"_parent\"><img src=\"https://colab.research.google.com/assets/colab-badge.svg\" alt=\"Open In Colab\"/></a>"
      ]
    },
    {
      "cell_type": "markdown",
      "source": [
        "#variaveis e constantes"
      ],
      "metadata": {
        "id": "LTC2JvVegQ_Z"
      }
    },
    {
      "cell_type": "code",
      "execution_count": null,
      "metadata": {
        "id": "nK6xqUNDf8gM"
      },
      "outputs": [],
      "source": [
        "idade = 15\n",
        "altura = 1.80\n",
        "nome = 'jhean'\n",
        "vai = True"
      ]
    },
    {
      "cell_type": "code",
      "source": [
        "nomes = ['Jhean','juninho','davi','flavio']\n",
        "nomes2 = ('Jhean','juninho','davi','flavio')\n",
        "tudo = {nome:'jhean',idade: 15,altura: 1.80,vai: True}"
      ],
      "metadata": {
        "id": "XCacA4ZHiZOH"
      },
      "execution_count": null,
      "outputs": []
    },
    {
      "cell_type": "code",
      "source": [
        "print(nome)\n",
        "print(nomes)\n",
        "print(nomes2)"
      ],
      "metadata": {
        "colab": {
          "base_uri": "https://localhost:8080/"
        },
        "id": "NML_zV7cjL7p",
        "outputId": "c28802cb-aadc-4771-f529-97019244f986"
      },
      "execution_count": null,
      "outputs": [
        {
          "output_type": "stream",
          "name": "stdout",
          "text": [
            "jhean\n",
            "['Jhean', 'juninho', 'davi', 'flavio']\n",
            "('Jhean', 'juninho', 'davi', 'flavio')\n"
          ]
        }
      ]
    },
    {
      "cell_type": "code",
      "source": [
        "print(type(idade))\n",
        "print(type(altura))\n",
        "print(type(vai))\n",
        "print(type(nome))\n",
        "print(type(nomes))\n",
        "print(type(nomes2))\n",
        "print(type(tudo))"
      ],
      "metadata": {
        "colab": {
          "base_uri": "https://localhost:8080/"
        },
        "id": "8JLZp7nSkMQg",
        "outputId": "92e894e8-22f2-444b-db07-7470a85db0e0"
      },
      "execution_count": null,
      "outputs": [
        {
          "output_type": "stream",
          "name": "stdout",
          "text": [
            "<class 'int'>\n",
            "<class 'float'>\n",
            "<class 'bool'>\n",
            "<class 'str'>\n",
            "<class 'list'>\n",
            "<class 'tuple'>\n",
            "<class 'dict'>\n"
          ]
        }
      ]
    },
    {
      "cell_type": "code",
      "source": [
        "print('o nome dele é:',nome,', sua idade é: ' , idade, ', ele tem ' , altura, 'metros de altura.')"
      ],
      "metadata": {
        "colab": {
          "base_uri": "https://localhost:8080/"
        },
        "id": "HnXxSwCQpNwd",
        "outputId": "ec787db1-333c-455f-b5bc-6d9322d0c0ff"
      },
      "execution_count": null,
      "outputs": [
        {
          "output_type": "stream",
          "name": "stdout",
          "text": [
            "o nome dele é: jhean , sua idade é:  15 , ele tem  1.8 metros de altura.\n"
          ]
        }
      ]
    },
    {
      "cell_type": "code",
      "source": [
        "Nome2 = \"kleber\"\n",
        "idade2 = 15\n",
        "print(f\"nome: {Nome2}, idade: {idade2}\")\n"
      ],
      "metadata": {
        "colab": {
          "base_uri": "https://localhost:8080/"
        },
        "id": "qEyNi6ePsXx8",
        "outputId": "19b493c0-259b-48a5-f66e-9e05d264c4f1"
      },
      "execution_count": null,
      "outputs": [
        {
          "output_type": "stream",
          "name": "stdout",
          "text": [
            "nome: kleber, idade: 15\n"
          ]
        }
      ]
    },
    {
      "cell_type": "markdown",
      "source": [
        "#Area do circulo\n"
      ],
      "metadata": {
        "id": "m1_GV791vus_"
      }
    },
    {
      "cell_type": "code",
      "source": [
        "PI = 3.14159\n",
        "raio = float(input('Digite o valor do raio do circulo'))\n",
        "areacir = PI * (raio**2)\n",
        "print(f\"A area do circulo é {areacir}\")"
      ],
      "metadata": {
        "colab": {
          "base_uri": "https://localhost:8080/"
        },
        "id": "78RubE8rvyCg",
        "outputId": "9492ab01-e7c3-45f8-d540-bd0edcd7cdbc"
      },
      "execution_count": null,
      "outputs": [
        {
          "output_type": "stream",
          "name": "stdout",
          "text": [
            "Digite o valor do raio do circulo5\n",
            "A area do circulo é 78.53975\n"
          ]
        }
      ]
    },
    {
      "cell_type": "markdown",
      "source": [
        "# Area do quadrado"
      ],
      "metadata": {
        "id": "vJAn2-GXzwM4"
      }
    },
    {
      "cell_type": "code",
      "source": [
        "Lado = float(input('digite a area do quadrado:'))\n",
        "areaqua = Lado ** 2\n",
        "print(f'area do quadrado: {areaqua}')"
      ],
      "metadata": {
        "colab": {
          "base_uri": "https://localhost:8080/"
        },
        "id": "jfQen0OB0A5C",
        "outputId": "5e84ab27-a3b0-472d-f6bf-097f701515bf"
      },
      "execution_count": null,
      "outputs": [
        {
          "output_type": "stream",
          "name": "stdout",
          "text": [
            "digite a area do quadrado:4\n",
            "area do quadrado: 16.0\n"
          ]
        }
      ]
    }
  ]
}