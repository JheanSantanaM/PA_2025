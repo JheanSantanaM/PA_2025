{
  "nbformat": 4,
  "nbformat_minor": 0,
  "metadata": {
    "colab": {
      "provenance": [],
      "authorship_tag": "ABX9TyMg6XPziOc2B7Llfmb6A2nY",
      "include_colab_link": true
    },
    "kernelspec": {
      "name": "python3",
      "display_name": "Python 3"
    },
    "language_info": {
      "name": "python"
    }
  },
  "cells": [
    {
      "cell_type": "markdown",
      "metadata": {
        "id": "view-in-github",
        "colab_type": "text"
      },
      "source": [
        "<a href=\"https://colab.research.google.com/github/JheanSantanaM/PA_2025/blob/main/VariaveisEoperadoresaritimeticos/Variaveiseconstantes.ipynb\" target=\"_parent\"><img src=\"https://colab.research.google.com/assets/colab-badge.svg\" alt=\"Open In Colab\"/></a>"
      ]
    },
    {
      "cell_type": "markdown",
      "source": [
        "#variaveis e constantes"
      ],
      "metadata": {
        "id": "LTC2JvVegQ_Z"
      }
    },
    {
      "cell_type": "code",
      "execution_count": null,
      "metadata": {
        "id": "nK6xqUNDf8gM"
      },
      "outputs": [],
      "source": [
        "idade = 15\n",
        "altura = 1.80\n",
        "nome = 'jhean'\n",
        "vai = True"
      ]
    },
    {
      "cell_type": "code",
      "source": [
        "nomes = ['Jhean','juninho','davi','flavio']\n",
        "nomes2 = ('Jhean','juninho','davi','flavio')\n",
        "tudo = {nome:'jhean',idade: 15,altura: 1.80,vai: True}"
      ],
      "metadata": {
        "id": "XCacA4ZHiZOH"
      },
      "execution_count": null,
      "outputs": []
    },
    {
      "cell_type": "code",
      "source": [
        "print(nome)\n",
        "print(nomes)\n",
        "print(nomes2)"
      ],
      "metadata": {
        "colab": {
          "base_uri": "https://localhost:8080/"
        },
        "id": "NML_zV7cjL7p",
        "outputId": "c28802cb-aadc-4771-f529-97019244f986"
      },
      "execution_count": null,
      "outputs": [
        {
          "output_type": "stream",
          "name": "stdout",
          "text": [
            "jhean\n",
            "['Jhean', 'juninho', 'davi', 'flavio']\n",
            "('Jhean', 'juninho', 'davi', 'flavio')\n"
          ]
        }
      ]
    },
    {
      "cell_type": "code",
      "source": [
        "print(type(idade))\n",
        "print(type(altura))\n",
        "print(type(vai))\n",
        "print(type(nome))\n",
        "print(type(nomes))\n",
        "print(type(nomes2))\n",
        "print(type(tudo))"
      ],
      "metadata": {
        "colab": {
          "base_uri": "https://localhost:8080/"
        },
        "id": "8JLZp7nSkMQg",
        "outputId": "92e894e8-22f2-444b-db07-7470a85db0e0"
      },
      "execution_count": null,
      "outputs": [
        {
          "output_type": "stream",
          "name": "stdout",
          "text": [
            "<class 'int'>\n",
            "<class 'float'>\n",
            "<class 'bool'>\n",
            "<class 'str'>\n",
            "<class 'list'>\n",
            "<class 'tuple'>\n",
            "<class 'dict'>\n"
          ]
        }
      ]
    },
    {
      "cell_type": "code",
      "source": [
        "print('o nome dele é:',nome,', sua idade é: ' , idade, ', ele tem ' , altura, 'metros de altura.')"
      ],
      "metadata": {
        "colab": {
          "base_uri": "https://localhost:8080/"
        },
        "id": "HnXxSwCQpNwd",
        "outputId": "ec787db1-333c-455f-b5bc-6d9322d0c0ff"
      },
      "execution_count": null,
      "outputs": [
        {
          "output_type": "stream",
          "name": "stdout",
          "text": [
            "o nome dele é: jhean , sua idade é:  15 , ele tem  1.8 metros de altura.\n"
          ]
        }
      ]
    },
    {
      "cell_type": "code",
      "source": [
        "Nome2 = \"kleber\"\n",
        "idade2 = 15\n",
        "print(f\"nome: {Nome2}, idade: {idade2}\")\n"
      ],
      "metadata": {
        "colab": {
          "base_uri": "https://localhost:8080/"
        },
        "id": "qEyNi6ePsXx8",
        "outputId": "19b493c0-259b-48a5-f66e-9e05d264c4f1"
      },
      "execution_count": null,
      "outputs": [
        {
          "output_type": "stream",
          "name": "stdout",
          "text": [
            "nome: kleber, idade: 15\n"
          ]
        }
      ]
    },
    {
      "cell_type": "markdown",
      "source": [
        "#Area do circulo\n"
      ],
      "metadata": {
        "id": "m1_GV791vus_"
      }
    },
    {
      "cell_type": "code",
      "source": [
        "PI = 3.14159\n",
        "raio = float(input('Digite o valor do raio do circulo'))\n",
        "areacir = PI * (raio**2)\n",
        "print(f\"A area do circulo é {areacir}\")"
      ],
      "metadata": {
        "colab": {
          "base_uri": "https://localhost:8080/"
        },
        "id": "78RubE8rvyCg",
        "outputId": "9492ab01-e7c3-45f8-d540-bd0edcd7cdbc"
      },
      "execution_count": null,
      "outputs": [
        {
          "output_type": "stream",
          "name": "stdout",
          "text": [
            "Digite o valor do raio do circulo5\n",
            "A area do circulo é 78.53975\n"
          ]
        }
      ]
    },
    {
      "cell_type": "markdown",
      "source": [
        "# Area do quadrado"
      ],
      "metadata": {
        "id": "vJAn2-GXzwM4"
      }
    },
    {
      "cell_type": "code",
      "source": [
        "Lado = float(input('digite a area do quadrado:'))\n",
        "areaqua = Lado ** 2\n",
        "print(f'area do quadrado: {areaqua}')"
      ],
      "metadata": {
        "colab": {
          "base_uri": "https://localhost:8080/"
        },
        "id": "jfQen0OB0A5C",
        "outputId": "5e84ab27-a3b0-472d-f6bf-097f701515bf"
      },
      "execution_count": null,
      "outputs": [
        {
          "output_type": "stream",
          "name": "stdout",
          "text": [
            "digite a area do quadrado:4\n",
            "area do quadrado: 16.0\n"
          ]
        }
      ]
    },
    {
      "cell_type": "markdown",
      "source": [
        "#Exercícios\n"
      ],
      "metadata": {
        "id": "PQ5I20ito2u1"
      }
    },
    {
      "cell_type": "markdown",
      "source": [
        "##Exercício 1 - Área do Retângulo\n",
        "\n",
        "Crie um programa que calcule a área de um retângulo usando uma constante para representar a base.\n",
        "\n",
        " Fórmula: A = base × altura"
      ],
      "metadata": {
        "id": "WvrQR2SypKeq"
      }
    },
    {
      "cell_type": "code",
      "source": [
        "base = float(input('digite a base do retangulo:'))\n",
        "alturaret = float(input('digite a altura do retangulo:'))\n",
        "resultado = base * alturaret\n",
        "print(f'a area do retangulo é: {resultado}')"
      ],
      "metadata": {
        "colab": {
          "base_uri": "https://localhost:8080/"
        },
        "id": "Gsvp1qoDpeH0",
        "outputId": "8b8536bd-fe3d-4b6e-c7b7-1ba7b046932c"
      },
      "execution_count": 3,
      "outputs": [
        {
          "output_type": "stream",
          "name": "stdout",
          "text": [
            "digite a base do retangulo:8\n",
            "digite a altura do retangulo:6\n",
            "a area do retangulo é: 48.0\n"
          ]
        }
      ]
    },
    {
      "cell_type": "markdown",
      "source": [
        "##Exercício 2 – Perímetro do Círculo\n",
        "\n",
        "Crie um programa que calcule o perímetro de um círculo usando a constante π.\n",
        "\n",
        " Fórmula: P = 2 × π × r"
      ],
      "metadata": {
        "id": "L_GnPoHKsGfI"
      }
    },
    {
      "cell_type": "code",
      "source": [
        "PI = 3.14159\n",
        "raio2 = float(input('digite o raio do circulo:'))\n",
        "resultado2 = P = 2 * 3.14159 * raio2\n",
        "print(f'o perimetro do circulo é: {resultado2:.2f}')"
      ],
      "metadata": {
        "colab": {
          "base_uri": "https://localhost:8080/"
        },
        "id": "V6meuwBWsLwY",
        "outputId": "c7f440f8-0c4e-4b1c-cae3-59b191904409"
      },
      "execution_count": 6,
      "outputs": [
        {
          "output_type": "stream",
          "name": "stdout",
          "text": [
            "digite o raio do circulo:7\n",
            "o perimetro do circulo é: 43.98\n"
          ]
        }
      ]
    },
    {
      "cell_type": "markdown",
      "source": [
        "##Exercício 3 – Conversão de Temperatura\n",
        "\n",
        "Crie um programa que converta uma temperatura de Fahrenheit para Celsius.\n",
        "\n",
        " Fórmula: C = (F - 32) × 5/9"
      ],
      "metadata": {
        "id": "IZdxJMapuA96"
      }
    },
    {
      "cell_type": "code",
      "source": [
        "fahrenheit = float(input('digite a temperatura em fahrenheit:'))\n",
        "resultado3 = C = (fahrenheit - 32) * 5/9\n",
        "print(f'Esse fahrenheit em celcius é:{resultado3:.2f}')"
      ],
      "metadata": {
        "colab": {
          "base_uri": "https://localhost:8080/"
        },
        "id": "8OdJjnsQuHMI",
        "outputId": "fcbd2503-bd4d-49b2-b65f-27f127f6ef74"
      },
      "execution_count": 10,
      "outputs": [
        {
          "output_type": "stream",
          "name": "stdout",
          "text": [
            "digite a temperatura em fahrenheit:70\n",
            "Esse fahrenheit em celcius é:21.11\n"
          ]
        }
      ]
    },
    {
      "cell_type": "markdown",
      "source": [
        "##Exercício 4 – Cálculo do IMC\n",
        "\n",
        "Crie um programa que calcule o Índice de Massa Corporal (IMC) de uma pessoa.\n",
        "\n",
        " Fórmula: IMC = peso / altura²"
      ],
      "metadata": {
        "id": "i7Lvr7IRwmxD"
      }
    },
    {
      "cell_type": "code",
      "source": [
        "peso = float(input('Digite seu peso:'))\n",
        "altura = float(input('digite sua altura:'))\n",
        "resultado4 = IMC = peso / altura**2\n",
        "print(f'o seu IMC é: {resultado4:.2f}')"
      ],
      "metadata": {
        "colab": {
          "base_uri": "https://localhost:8080/"
        },
        "id": "h6UFxiyLwvRd",
        "outputId": "809b743a-5f33-466d-ffd7-488d4eb51e4c"
      },
      "execution_count": 15,
      "outputs": [
        {
          "output_type": "stream",
          "name": "stdout",
          "text": [
            "Digite seu peso:75\n",
            "digite sua altura:1.80\n",
            "o seu IMC é: 23.15\n"
          ]
        }
      ]
    }
  ]
}