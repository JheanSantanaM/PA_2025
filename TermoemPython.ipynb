{
  "nbformat": 4,
  "nbformat_minor": 0,
  "metadata": {
    "colab": {
      "provenance": [],
      "authorship_tag": "ABX9TyNTlv+RdTZXs9wi2MW4MAPJ",
      "include_colab_link": true
    },
    "kernelspec": {
      "name": "python3",
      "display_name": "Python 3"
    },
    "language_info": {
      "name": "python"
    }
  },
  "cells": [
    {
      "cell_type": "markdown",
      "metadata": {
        "id": "view-in-github",
        "colab_type": "text"
      },
      "source": [
        "<a href=\"https://colab.research.google.com/github/JheanSantanaM/PA_2025/blob/main/TermoemPython.ipynb\" target=\"_parent\"><img src=\"https://colab.research.google.com/assets/colab-badge.svg\" alt=\"Open In Colab\"/></a>"
      ]
    },
    {
      "cell_type": "code",
      "execution_count": 1,
      "metadata": {
        "colab": {
          "base_uri": "https://localhost:8080/"
        },
        "id": "vvsZiVTHQJiA",
        "outputId": "a76d58e9-4b42-4147-d4a3-cb530a8ec346"
      },
      "outputs": [
        {
          "name": "stdout",
          "output_type": "stream",
          "text": [
            "Tentativa 1: casas\n",
            "-----\n",
            "Tentativa 2: tempo\n",
            "TEMPO\n",
            "Acertou!\n",
            "Jogar de novo? (s/n) n\n"
          ]
        }
      ],
      "source": [
        "import random\n",
        "\n",
        "palavras = [\"CASAS\", \"TEMPO\", \"SONHO\", \"LUZES\", \"VIDAS\", \"PEDRA\", \"FORTE\"]\n",
        "\n",
        "while True:\n",
        "    secreta = random.choice(palavras)\n",
        "    for i in range(6):\n",
        "        palpite = input(f\"Tentativa {i+1}: \").upper()\n",
        "        if len(palpite) != 5:\n",
        "            print(\"5 letras!\")\n",
        "            continue\n",
        "        resultado = \"\"\n",
        "        for j in range(5):\n",
        "            if palpite[j] == secreta[j]:\n",
        "                resultado += palpite[j]\n",
        "            elif palpite[j] in secreta:\n",
        "                resultado += \"*\"\n",
        "            else:\n",
        "                resultado += \"-\"\n",
        "        print(resultado)\n",
        "        if palpite == secreta:\n",
        "            print(\"Acertou!\")\n",
        "            break\n",
        "    else:\n",
        "        print(\"Perdeu! A palavra era:\", secreta)\n",
        "    if input(\"Jogar de novo? (s/n) \").lower() != \"s\":\n",
        "        break\n"
      ]
    }
  ]
}