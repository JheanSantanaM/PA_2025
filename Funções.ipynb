{
  "nbformat": 4,
  "nbformat_minor": 0,
  "metadata": {
    "colab": {
      "provenance": [],
      "authorship_tag": "ABX9TyN0Ehb06zvKt31jAw2acfjG",
      "include_colab_link": true
    },
    "kernelspec": {
      "name": "python3",
      "display_name": "Python 3"
    },
    "language_info": {
      "name": "python"
    }
  },
  "cells": [
    {
      "cell_type": "markdown",
      "metadata": {
        "id": "view-in-github",
        "colab_type": "text"
      },
      "source": [
        "<a href=\"https://colab.research.google.com/github/JheanSantanaM/PA_2025/blob/main/Fun%C3%A7%C3%B5es.ipynb\" target=\"_parent\"><img src=\"https://colab.research.google.com/assets/colab-badge.svg\" alt=\"Open In Colab\"/></a>"
      ]
    },
    {
      "cell_type": "markdown",
      "source": [
        "# Estou definindo as funções sem retorno\n"
      ],
      "metadata": {
        "id": "opv3oCeANiIL"
      }
    },
    {
      "cell_type": "code",
      "execution_count": null,
      "metadata": {
        "id": "HPqRoJjcMUM1"
      },
      "outputs": [],
      "source": [
        "total = 0\n",
        "subtrai = 0\n",
        "def soma (x, y):\n",
        "  total = x + y\n",
        "  print(total)\n",
        "\n",
        "def subtração (x, y):\n",
        "  subtrai = x - y\n",
        "  print(subtrai)"
      ]
    },
    {
      "cell_type": "markdown",
      "source": [
        "#Estou definindo funções com retorno\n"
      ],
      "metadata": {
        "id": "kbgY_1fYR3Ca"
      }
    },
    {
      "cell_type": "code",
      "source": [
        "def mult (x,y):\n",
        "  total = x * y\n",
        "  return total\n",
        "\n",
        "def divisão (x, y):\n",
        "  total = x / y\n",
        "  return total"
      ],
      "metadata": {
        "id": "tXdb_ectSN6s"
      },
      "execution_count": null,
      "outputs": []
    },
    {
      "cell_type": "markdown",
      "source": [
        "# Agora vou chamar as funções\n"
      ],
      "metadata": {
        "id": "ierKvMSLNsry"
      }
    },
    {
      "cell_type": "code",
      "source": [
        "valor1 = float(input(\"Digite o Primeiro valor: \"))\n",
        "valor2 = float(input(\"Digite o segundo valor: \"))\n",
        "soma(valor1, valor2)\n",
        "subtração(valor1, valor2)"
      ],
      "metadata": {
        "colab": {
          "base_uri": "https://localhost:8080/"
        },
        "id": "w887Qe4ZN39k",
        "outputId": "0cb7bc45-4e31-4562-f746-18bf8392919e"
      },
      "execution_count": null,
      "outputs": [
        {
          "output_type": "stream",
          "name": "stdout",
          "text": [
            "Digite o Primeiro valor: 10\n",
            "Digite o segundo valor: 8\n",
            "18.0\n",
            "2.0\n"
          ]
        }
      ]
    },
    {
      "cell_type": "code",
      "source": [
        "print(total)\n",
        "print(subtrai)"
      ],
      "metadata": {
        "colab": {
          "base_uri": "https://localhost:8080/"
        },
        "id": "ARBZf9ajO62E",
        "outputId": "0647cc43-b372-4bb7-97de-97f42135d41f"
      },
      "execution_count": null,
      "outputs": [
        {
          "output_type": "stream",
          "name": "stdout",
          "text": [
            "0\n",
            "0\n"
          ]
        }
      ]
    },
    {
      "cell_type": "markdown",
      "source": [
        "#Chamando funções com retorno"
      ],
      "metadata": {
        "id": "I3Ndt_mzSqwh"
      }
    },
    {
      "cell_type": "code",
      "source": [
        "valor1 = float(input(\"Digite o Primeiro valor: \"))\n",
        "valor2 = float(input(\"Digite o segundo valor: \"))\n",
        "multiplicacao = mult(valor1, valor2)\n",
        "divisao = divisão(valor1, valor2)\n",
        "\n",
        "print(\"A multiplicação é:\" , multiplicacao)\n",
        "print(\"O resultado da divisão é: \" , divisao)"
      ],
      "metadata": {
        "colab": {
          "base_uri": "https://localhost:8080/"
        },
        "id": "Gkldb0GKSxxM",
        "outputId": "34ce1df1-0618-480a-cce6-0af542698dd2"
      },
      "execution_count": null,
      "outputs": [
        {
          "output_type": "stream",
          "name": "stdout",
          "text": [
            "Digite o Primeiro valor: 10\n",
            "Digite o segundo valor: 2\n",
            "A multiplicação é: 20.0\n",
            "O resultado da divisão é:  5.0\n"
          ]
        }
      ]
    },
    {
      "cell_type": "markdown",
      "source": [
        "# Funções sem retorno e sem parâmetro"
      ],
      "metadata": {
        "id": "IWOqaeQiU2U1"
      }
    },
    {
      "cell_type": "code",
      "source": [
        "def saudacao():\n",
        "  print(\"Olá! Seja bem-vindo(a) ao curso de Python!\")"
      ],
      "metadata": {
        "id": "ggG3Nw9HVAZP"
      },
      "execution_count": null,
      "outputs": []
    },
    {
      "cell_type": "code",
      "source": [
        "saudacao ()"
      ],
      "metadata": {
        "colab": {
          "base_uri": "https://localhost:8080/"
        },
        "id": "zS8he6QZVDI9",
        "outputId": "b252e72a-15e3-40c5-96da-076c16298f90"
      },
      "execution_count": null,
      "outputs": [
        {
          "output_type": "stream",
          "name": "stdout",
          "text": [
            "Olá! Seja bem-vindo(a) ao curso de Python!\n"
          ]
        }
      ]
    },
    {
      "cell_type": "code",
      "source": [
        "from datetime import datetime\n",
        "\n",
        "def mostrar_horario():\n",
        "    agora = datetime.now()\n",
        "    print(f\"Horário atual: {agora.strftime('%H:%M:%S')}\")"
      ],
      "metadata": {
        "id": "cP0uCQ8CW7id"
      },
      "execution_count": null,
      "outputs": []
    },
    {
      "cell_type": "code",
      "source": [
        "mostrar_horario()"
      ],
      "metadata": {
        "colab": {
          "base_uri": "https://localhost:8080/"
        },
        "id": "_qeyEMiyW_3i",
        "outputId": "78124130-bea9-4e88-8651-fef9db5cc5b8"
      },
      "execution_count": null,
      "outputs": [
        {
          "output_type": "stream",
          "name": "stdout",
          "text": [
            "Horário atual: 18:48:53\n"
          ]
        }
      ]
    },
    {
      "cell_type": "markdown",
      "source": [
        "# Função com Parâmetro e sem Retorno"
      ],
      "metadata": {
        "id": "L0u31yONYF1i"
      }
    },
    {
      "cell_type": "code",
      "source": [
        "def apresentar(nome):\n",
        "  print(f\"Olá, {nome}! Prazer em te conhecer.\")"
      ],
      "metadata": {
        "id": "vM3h_urNYH8J"
      },
      "execution_count": null,
      "outputs": []
    },
    {
      "cell_type": "code",
      "source": [
        "nome = input(\"Digite seu nome: \")\n",
        "apresentar(nome)"
      ],
      "metadata": {
        "colab": {
          "base_uri": "https://localhost:8080/"
        },
        "id": "MeccUy0OYSSr",
        "outputId": "05a49dc6-9369-4d75-b8f5-699a01f8936a"
      },
      "execution_count": null,
      "outputs": [
        {
          "output_type": "stream",
          "name": "stdout",
          "text": [
            "Digite seu nome: jhean\n",
            "Olá, jhean! Prazer em te conhecer.\n"
          ]
        }
      ]
    },
    {
      "cell_type": "code",
      "source": [
        "def verificar_paridade(numero):\n",
        "  if numero % 2 == 0:\n",
        "    print(f\"O numero {numero} é Par.\")\n",
        "  else:\n",
        "    print(f\"O numero {numero} é impar.\")\n",
        "\n",
        "verificar_paridade(7)\n",
        "verificar_paridade(12)"
      ],
      "metadata": {
        "colab": {
          "base_uri": "https://localhost:8080/"
        },
        "id": "IdOrNcgiZ4xt",
        "outputId": "ef1f6454-ee0b-4843-a413-c0f3b518fd32"
      },
      "execution_count": null,
      "outputs": [
        {
          "output_type": "stream",
          "name": "stdout",
          "text": [
            "O numero 7 é impar.\n",
            "O numero 12 é Par.\n"
          ]
        }
      ]
    },
    {
      "cell_type": "markdown",
      "source": [
        "# Função sem Parâmetro e com Retorno"
      ],
      "metadata": {
        "id": "i2FFf-UKbv_q"
      }
    },
    {
      "cell_type": "code",
      "source": [
        "def mensagem():\n",
        "  return \"Hoje é um ótimo dia para programar!\""
      ],
      "metadata": {
        "id": "ufe9wGqmbyKw"
      },
      "execution_count": null,
      "outputs": []
    },
    {
      "cell_type": "code",
      "source": [
        "mensagem()"
      ],
      "metadata": {
        "colab": {
          "base_uri": "https://localhost:8080/",
          "height": 35
        },
        "id": "MH_wQqc1cPQ0",
        "outputId": "9ff436c5-57b9-401f-a60a-d41779021757"
      },
      "execution_count": null,
      "outputs": [
        {
          "output_type": "execute_result",
          "data": {
            "text/plain": [
              "'Hoje é um ótimo dia para programar!'"
            ],
            "application/vnd.google.colaboratory.intrinsic+json": {
              "type": "string"
            }
          },
          "metadata": {},
          "execution_count": 65
        }
      ]
    },
    {
      "cell_type": "code",
      "source": [
        "usar = mensagem()\n",
        "\n",
        "print(\"É sexta,\", usar)"
      ],
      "metadata": {
        "colab": {
          "base_uri": "https://localhost:8080/"
        },
        "id": "usp12EzhcScY",
        "outputId": "3a2785a5-e575-42e5-f5e8-d95c4be596c8"
      },
      "execution_count": null,
      "outputs": [
        {
          "output_type": "stream",
          "name": "stdout",
          "text": [
            "É sexta, Hoje é um ótimo dia para programar!\n"
          ]
        }
      ]
    },
    {
      "cell_type": "code",
      "source": [
        "def somatresnotas():\n",
        " nota1 = float(input(\"Digite o primeira numero: \"))\n",
        " nota2 = float(input(\"Digite o segunda numero: \"))\n",
        " nota3 = float(input(\"Digite o terceira numero: \"))\n",
        " soma =  nota1 + nota2 + nota3\n",
        " return soma\n",
        "\n"
      ],
      "metadata": {
        "id": "rOk5qQ79oOgB"
      },
      "execution_count": null,
      "outputs": []
    },
    {
      "cell_type": "code",
      "source": [
        "somatresnotas(1)"
      ],
      "metadata": {
        "colab": {
          "base_uri": "https://localhost:8080/"
        },
        "id": "dFrXpH4XrbUc",
        "outputId": "76b953a3-7f16-4880-ada4-0300a676c559"
      },
      "execution_count": null,
      "outputs": [
        {
          "name": "stdout",
          "output_type": "stream",
          "text": [
            "Digite a primeira nota: 10\n",
            "Digite a segunda nota: 10\n",
            "Digite a terceira nota: 0\n"
          ]
        },
        {
          "output_type": "execute_result",
          "data": {
            "text/plain": [
              "20.0"
            ]
          },
          "metadata": {},
          "execution_count": 78
        }
      ]
    },
    {
      "cell_type": "code",
      "source": [
        "def media():\n",
        " nota1 = float(input(\"Digite a primeira nota: \"))\n",
        " nota2 = float(input(\"Digite a segunda nota: \"))\n",
        " nota3 = float(input(\"Digite a terceira nota: \"))\n",
        " media = (nota1 + nota2 + nota3) / 3\n",
        " return media"
      ],
      "metadata": {
        "id": "kd6iccaJrIdg"
      },
      "execution_count": null,
      "outputs": []
    },
    {
      "cell_type": "code",
      "source": [
        "media()\n",
        "3"
      ],
      "metadata": {
        "colab": {
          "base_uri": "https://localhost:8080/"
        },
        "id": "CgHmLracrBgu",
        "outputId": "ec582ba3-1f93-4ec8-f8fd-ffa92f3bd756"
      },
      "execution_count": null,
      "outputs": [
        {
          "name": "stdout",
          "output_type": "stream",
          "text": [
            "Digite a primeira nota: 5\n",
            "Digite a segunda nota: 8\n",
            "Digite a terceira nota: 0\n"
          ]
        },
        {
          "output_type": "execute_result",
          "data": {
            "text/plain": [
              "4.333333333333333"
            ]
          },
          "metadata": {},
          "execution_count": 77
        }
      ]
    },
    {
      "cell_type": "markdown",
      "source": [
        "#Função com Parâmetro e com Retorno"
      ],
      "metadata": {
        "id": "Mlfog06Zrtm8"
      }
    },
    {
      "cell_type": "code",
      "source": [
        "def calcular_total(preco_unitario, quantidade):\n",
        "  total = preco_unitario * quantidade\n",
        "  return total"
      ],
      "metadata": {
        "id": "dfyxRr87rvKr"
      },
      "execution_count": null,
      "outputs": []
    },
    {
      "cell_type": "code",
      "source": [
        "valor = calcular_total(25.50, 3)\n",
        "print(f\"O valor total da compra é R$ {valor:.2f}\")"
      ],
      "metadata": {
        "colab": {
          "base_uri": "https://localhost:8080/"
        },
        "id": "f8fTRO-BsmKd",
        "outputId": "0f06891f-9289-4763-cfa5-230c527afc44"
      },
      "execution_count": null,
      "outputs": [
        {
          "output_type": "stream",
          "name": "stdout",
          "text": [
            "O valor total da compra é R$ 76.50\n"
          ]
        }
      ]
    },
    {
      "cell_type": "code",
      "source": [
        "def calcular_imc(peso, altura):\n",
        "  imc = peso / (altura ** 2)\n",
        "  return imc"
      ],
      "metadata": {
        "id": "zV62-uOttBOz"
      },
      "execution_count": null,
      "outputs": []
    },
    {
      "cell_type": "code",
      "source": [
        "peso = float(input(\"Digite seu peso (kg): \"))\n",
        "altura = float(input(\"Digite sua altura (m): \"))\n",
        "\n",
        "resultado = calcular_imc(peso, altura)\n",
        "print(f\"Seu IMC é {resultado:.2f}\")"
      ],
      "metadata": {
        "colab": {
          "base_uri": "https://localhost:8080/"
        },
        "id": "PbCCEJArtZn4",
        "outputId": "e2cee328-f99d-4e04-e81c-48d577f7b383"
      },
      "execution_count": null,
      "outputs": [
        {
          "output_type": "stream",
          "name": "stdout",
          "text": [
            "Digite seu peso (kg): 75\n",
            "Digite sua altura (m): 1.85\n",
            "Seu IMC é 21.91\n"
          ]
        }
      ]
    },
    {
      "cell_type": "markdown",
      "source": [
        "#Exercícios"
      ],
      "metadata": {
        "id": "DscuGCUWqsq4"
      }
    },
    {
      "cell_type": "markdown",
      "source": [
        "##Exercício 1"
      ],
      "metadata": {
        "id": "BAenxv1yu2YL"
      }
    },
    {
      "cell_type": "code",
      "source": [
        "def saudacao():\n",
        "  print(\"Oi, Esse é um código teste sobre funções\")"
      ],
      "metadata": {
        "id": "NLR-FhK9rEGI"
      },
      "execution_count": null,
      "outputs": []
    },
    {
      "cell_type": "code",
      "source": [
        "saudacao()"
      ],
      "metadata": {
        "colab": {
          "base_uri": "https://localhost:8080/"
        },
        "id": "1rp5RfDeuV8f",
        "outputId": "7954d552-17ed-45c6-ce9e-9331be83a0fb"
      },
      "execution_count": null,
      "outputs": [
        {
          "output_type": "stream",
          "name": "stdout",
          "text": [
            "Oi, Esse é um código teste sobre funções\n"
          ]
        }
      ]
    },
    {
      "cell_type": "markdown",
      "source": [
        "##Exercício 2"
      ],
      "metadata": {
        "id": "b0qi4cxwu6eQ"
      }
    },
    {
      "cell_type": "code",
      "source": [
        "def celsius_para_fahrenheit(celsius):\n",
        "    fahrenheit = celsius * (9 / 5) + 32\n",
        "    return fahrenheit"
      ],
      "metadata": {
        "id": "6ubwOE8_u9d9"
      },
      "execution_count": 4,
      "outputs": []
    },
    {
      "cell_type": "code",
      "source": [
        "resultado = celsius_para_fahrenheit(23)\n",
        "print(resultado)"
      ],
      "metadata": {
        "colab": {
          "base_uri": "https://localhost:8080/"
        },
        "id": "pm2fxMY1UjWl",
        "outputId": "6e509832-b589-4ae0-b8e9-0e82688959de"
      },
      "execution_count": 5,
      "outputs": [
        {
          "output_type": "stream",
          "name": "stdout",
          "text": [
            "73.4\n"
          ]
        }
      ]
    },
    {
      "cell_type": "markdown",
      "source": [
        "##Exercício 3"
      ],
      "metadata": {
        "id": "b3NRO79QUwy_"
      }
    },
    {
      "cell_type": "code",
      "source": [
        "def boasvindas(nome):\n",
        "  print(f\"Olá, {nome}! Seja bem-vindo.\")\n",
        "  nome = input(\"Digite seu nome: \")"
      ],
      "metadata": {
        "colab": {
          "base_uri": "https://localhost:8080/"
        },
        "id": "HyRb0uBGUwYm",
        "outputId": "85aeb21f-452f-4af7-d2f6-e8ee6990e4b2"
      },
      "execution_count": 17,
      "outputs": [
        {
          "name": "stdout",
          "output_type": "stream",
          "text": [
            "Digite seu nome: jhean\n"
          ]
        }
      ]
    },
    {
      "cell_type": "code",
      "source": [
        "boasvindas(nome)"
      ],
      "metadata": {
        "colab": {
          "base_uri": "https://localhost:8080/"
        },
        "id": "4orPs-U2VCGM",
        "outputId": "04a82e1c-b9df-402c-ecd2-eec25bc8902a"
      },
      "execution_count": 18,
      "outputs": [
        {
          "output_type": "stream",
          "name": "stdout",
          "text": [
            "Olá, jhean! Seja bem-vindo.\n"
          ]
        }
      ]
    },
    {
      "cell_type": "markdown",
      "source": [
        "##Exercício 4"
      ],
      "metadata": {
        "id": "phA87CRkVjuD"
      }
    },
    {
      "cell_type": "code",
      "source": [
        "def potencias(p):\n",
        "    quadrado = p ** 2\n",
        "    cubo = p ** 3\n",
        "    return quadrado, cubo"
      ],
      "metadata": {
        "id": "MOe3mpNVVi40"
      },
      "execution_count": 19,
      "outputs": []
    },
    {
      "cell_type": "code",
      "source": [
        "num = int(input(\"Digite um número: \"))\n",
        "resultado = potencias(num)\n",
        "print(\"Quadrado e Cubo:\", resultado)"
      ],
      "metadata": {
        "colab": {
          "base_uri": "https://localhost:8080/"
        },
        "id": "en9Wsk1_Vrfb",
        "outputId": "c1326816-9ced-47a1-ee27-56961cf70abf"
      },
      "execution_count": 20,
      "outputs": [
        {
          "output_type": "stream",
          "name": "stdout",
          "text": [
            "Digite um número: 15\n",
            "Quadrado e Cubo: (225, 3375)\n"
          ]
        }
      ]
    },
    {
      "cell_type": "markdown",
      "source": [
        "##Exercício 5"
      ],
      "metadata": {
        "id": "XSI8XlojWAFL"
      }
    },
    {
      "cell_type": "code",
      "source": [
        "def contregres():\n",
        "    inicio = int(input(\"Digite o número inicial da contagem regressiva: \"))\n",
        "\n",
        "    for i in range(inicio, 0, -1):\n",
        "        print(i)"
      ],
      "metadata": {
        "id": "k9rjtSo5WGoU"
      },
      "execution_count": 23,
      "outputs": []
    },
    {
      "cell_type": "code",
      "source": [
        "contregres()"
      ],
      "metadata": {
        "colab": {
          "base_uri": "https://localhost:8080/"
        },
        "id": "3gqaLz7DWIJj",
        "outputId": "51e92ddd-3b0b-46f6-adeb-8ba4e889308b"
      },
      "execution_count": 24,
      "outputs": [
        {
          "output_type": "stream",
          "name": "stdout",
          "text": [
            "Digite o número inicial da contagem regressiva: 11\n",
            "11\n",
            "10\n",
            "9\n",
            "8\n",
            "7\n",
            "6\n",
            "5\n",
            "4\n",
            "3\n",
            "2\n",
            "1\n"
          ]
        }
      ]
    },
    {
      "cell_type": "markdown",
      "source": [
        "##Exercício 6"
      ],
      "metadata": {
        "id": "N16G4LJDWXhj"
      }
    },
    {
      "cell_type": "code",
      "source": [
        "def calcular_desconto(valororiginal, percentdesconto):\n",
        "    return valororiginal * (1 - percentdesconto / 100)\n"
      ],
      "metadata": {
        "id": "jtRS3-EJWdvo"
      },
      "execution_count": 33,
      "outputs": []
    },
    {
      "cell_type": "code",
      "source": [
        "valor = float(input(\"Digite o valor original: \"))\n",
        "desconto = float(input(\"Digite o percentual de desconto: \"))\n",
        "resultado = calcular_desconto(valor, desconto)\n",
        "print(f\"Valor final com desconto: {resultado:}\")"
      ],
      "metadata": {
        "colab": {
          "base_uri": "https://localhost:8080/"
        },
        "id": "FGmpMIJRWiXD",
        "outputId": "a50d147f-9601-47e3-d4ab-25c462fabc04"
      },
      "execution_count": 36,
      "outputs": [
        {
          "output_type": "stream",
          "name": "stdout",
          "text": [
            "Digite o valor original: 300\n",
            "Digite o percentual de desconto: 10\n",
            "Valor final com desconto: 270.0\n"
          ]
        }
      ]
    },
    {
      "cell_type": "markdown",
      "source": [
        "##Exercício 7"
      ],
      "metadata": {
        "id": "TphstKn4XuwY"
      }
    },
    {
      "cell_type": "code",
      "source": [
        "def extremos(lista):\n",
        "    maior = max(lista)\n",
        "    menor = min(lista)\n",
        "    return maior, menor"
      ],
      "metadata": {
        "id": "j_y7rV5tX459"
      },
      "execution_count": 37,
      "outputs": []
    },
    {
      "cell_type": "code",
      "source": [
        "numeros = [50, 7, 13, 9, 28]\n",
        "maior, menor = extremos(numeros)\n",
        "print(f\"Maior: {maior}, Menor: {menor}\")"
      ],
      "metadata": {
        "colab": {
          "base_uri": "https://localhost:8080/"
        },
        "id": "OYzFNU-qYAEY",
        "outputId": "04675d72-dcb2-4814-9ec2-4427fe8cf600"
      },
      "execution_count": 39,
      "outputs": [
        {
          "output_type": "stream",
          "name": "stdout",
          "text": [
            "Maior: 50, Menor: 7\n"
          ]
        }
      ]
    },
    {
      "cell_type": "markdown",
      "source": [
        "##Exercício 8"
      ],
      "metadata": {
        "id": "yTtFsS02YXWF"
      }
    },
    {
      "cell_type": "code",
      "source": [
        "def calculadora(a,b,opera):\n",
        "\n",
        "  if opera == 'soma':\n",
        "       return a + b\n",
        "\n",
        "  elif opera == 'subtracao':\n",
        "      return a - b\n",
        "\n",
        "  elif opera == 'multiplicacao':\n",
        "      return a * b\n",
        "\n",
        "  elif opera == 'divisao':\n",
        "      if b != 0:\n",
        "         return a / b\n",
        "      else:\n",
        "         return \"Erro: divisão por zero!\"\n",
        "  else:\n",
        "     return \"Operação inválida\""
      ],
      "metadata": {
        "id": "NvFrU8kXYaVO"
      },
      "execution_count": 42,
      "outputs": []
    },
    {
      "cell_type": "code",
      "source": [
        "a = float(input(\"Digite o primeiro número: \"))\n",
        "b = float(input(\"Digite o segundo número: \"))\n",
        "opera = input(\"Digite a operação (soma, subtracao, multiplicacao, divisao): \").lower()\n",
        "resultado = calculadora(a,b,opera)\n",
        "print(\"Resultado:\", resultado)\n"
      ],
      "metadata": {
        "colab": {
          "base_uri": "https://localhost:8080/"
        },
        "id": "hHilh4cGYf12",
        "outputId": "633414f7-a7fb-4162-d366-17ae2ab6498e"
      },
      "execution_count": 43,
      "outputs": [
        {
          "output_type": "stream",
          "name": "stdout",
          "text": [
            "Digite o primeiro número: 10\n",
            "Digite o segundo número: 30\n",
            "Digite a operação (soma, subtracao, multiplicacao, divisao): soma\n",
            "Resultado: 40.0\n"
          ]
        }
      ]
    },
    {
      "cell_type": "markdown",
      "source": [
        "##Exercício 9"
      ],
      "metadata": {
        "id": "b9xcBfnRY_Ul"
      }
    },
    {
      "cell_type": "code",
      "source": [
        "def enviar_email():\n",
        "  destinatario = input(\"Digite o destinatário do email: \")\n",
        "  assunto = input(\"Digite o assunto do email: \")\n",
        "  corpo = input(\"Corpo do email (ou deixe vazio para usar padrão): \")\n",
        "\n",
        "  if corpo == \"\":\n",
        "        corpo = \"Email automático.\"\n",
        "\n",
        "  print(\"\\nEnviando email\")\n",
        "  print(\"Destinatário:\", destinatario)\n",
        "  print(\"Assunto:\", assunto)\n",
        "  print(\"Corpo:\", corpo)"
      ],
      "metadata": {
        "id": "iC8e_UvjZDzP"
      },
      "execution_count": 44,
      "outputs": []
    },
    {
      "cell_type": "code",
      "source": [
        "enviar_email()"
      ],
      "metadata": {
        "colab": {
          "base_uri": "https://localhost:8080/"
        },
        "id": "cENJf304ZMSC",
        "outputId": "80fbd798-6019-4a11-8cbf-632738501a6a"
      },
      "execution_count": 45,
      "outputs": [
        {
          "output_type": "stream",
          "name": "stdout",
          "text": [
            "Digite o destinatário do email: jhean\n",
            "Digite o assunto do email: oi jhean\n",
            "Digite o corpo do email (ou deixe vazio para usar padrão): \n",
            "\n",
            "Enviando email\n",
            "Destinatário: jhean\n",
            "Assunto: oi jhean\n",
            "Corpo: Este é um email automático.\n"
          ]
        }
      ]
    },
    {
      "cell_type": "markdown",
      "source": [
        "##Exercício 10"
      ],
      "metadata": {
        "id": "OZQjR5-rcWUl"
      }
    },
    {
      "cell_type": "code",
      "source": [
        "def avaliacao():\n",
        "    nota = float(input(\"Digite a nota do aluno (0 a 10): \"))\n",
        "    if nota >= 7:\n",
        "        situacao = \"Aprovado\"\n",
        "    elif nota >= 5 and nota < 7:\n",
        "        situacao = \"Recuperação\"\n",
        "    else:\n",
        "        situacao = \"Reprovado\"\n",
        "\n",
        "    print(\"Aluno:\", situacao)"
      ],
      "metadata": {
        "id": "ogHP63XUcYUd"
      },
      "execution_count": 50,
      "outputs": []
    },
    {
      "cell_type": "code",
      "source": [
        "avaliacao()"
      ],
      "metadata": {
        "colab": {
          "base_uri": "https://localhost:8080/"
        },
        "id": "pHfO_itecalO",
        "outputId": "a0476544-4576-4b36-d409-91885f02b650"
      },
      "execution_count": 51,
      "outputs": [
        {
          "output_type": "stream",
          "name": "stdout",
          "text": [
            "Digite a nota do aluno (0 a 10): 5\n",
            "Aluno: Recuperação\n"
          ]
        }
      ]
    }
  ]
}